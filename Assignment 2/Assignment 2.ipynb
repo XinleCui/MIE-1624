{
 "cells": [
  {
   "cell_type": "code",
   "execution_count": 1717,
   "id": "3a6b3fb6",
   "metadata": {
    "id": "3a6b3fb6"
   },
   "outputs": [],
   "source": [
    "import re\n",
    "import pandas as pd\n",
    "import numpy as np\n",
    "from random import *\n",
    "import seaborn as sns\n",
    "import matplotlib.pyplot as plt\n",
    "from sklearn.preprocessing import LabelEncoder\n",
    "%matplotlib inline\n",
    "\n",
    "from sklearn.feature_selection import VarianceThreshold\n",
    "from sklearn.model_selection import train_test_split\n",
    "from sklearn.model_selection import KFold\n",
    "from sklearn.metrics import accuracy_score\n",
    "from sklearn.metrics import make_scorer, mean_absolute_error\n",
    "from sklearn.pipeline import Pipeline\n",
    "from sklearn.ensemble import RandomForestRegressor\n",
    "from sklearn.ensemble import RandomForestClassifier\n",
    "from sklearn.linear_model import LogisticRegression\n",
    "from sklearn.feature_selection import SelectFromModel\n",
    "import warnings\n",
    "warnings.filterwarnings(\"ignore\")"
   ]
  },
  {
   "cell_type": "code",
   "execution_count": 1718,
   "id": "3e4c20d0",
   "metadata": {
    "id": "3e4c20d0"
   },
   "outputs": [],
   "source": [
    "#from google.colab import files\n",
    "#files.upload()"
   ]
  },
  {
   "cell_type": "code",
   "execution_count": 1719,
   "id": "eU5JU8itP0_z",
   "metadata": {
    "id": "eU5JU8itP0_z"
   },
   "outputs": [
    {
     "data": {
      "text/plain": [
       "(8137, 298)"
      ]
     },
     "execution_count": 1719,
     "metadata": {},
     "output_type": "execute_result"
    }
   ],
   "source": [
    "salaries = pd.read_csv(\"./clean_kaggle_data_2022.csv\", low_memory = False, encoding = 'latin2')\n",
    "salaries.shape"
   ]
  },
  {
   "cell_type": "code",
   "execution_count": 1720,
   "id": "xCQ2E3RY4XZM",
   "metadata": {
    "id": "xCQ2E3RY4XZM"
   },
   "outputs": [
    {
     "data": {
      "text/html": [
       "<div>\n",
       "<style scoped>\n",
       "    .dataframe tbody tr th:only-of-type {\n",
       "        vertical-align: middle;\n",
       "    }\n",
       "\n",
       "    .dataframe tbody tr th {\n",
       "        vertical-align: top;\n",
       "    }\n",
       "\n",
       "    .dataframe thead th {\n",
       "        text-align: right;\n",
       "    }\n",
       "</style>\n",
       "<table border=\"1\" class=\"dataframe\">\n",
       "  <thead>\n",
       "    <tr style=\"text-align: right;\">\n",
       "      <th></th>\n",
       "      <th>Duration (in seconds)</th>\n",
       "      <th>Q2</th>\n",
       "      <th>Q3</th>\n",
       "      <th>Q4</th>\n",
       "      <th>Q5</th>\n",
       "      <th>Q6_1</th>\n",
       "      <th>Q6_2</th>\n",
       "      <th>Q6_3</th>\n",
       "      <th>Q6_4</th>\n",
       "      <th>Q6_5</th>\n",
       "      <th>...</th>\n",
       "      <th>Q44_5</th>\n",
       "      <th>Q44_6</th>\n",
       "      <th>Q44_7</th>\n",
       "      <th>Q44_8</th>\n",
       "      <th>Q44_9</th>\n",
       "      <th>Q44_10</th>\n",
       "      <th>Q44_11</th>\n",
       "      <th>Q44_12</th>\n",
       "      <th>Q29_Encoded</th>\n",
       "      <th>Q29_buckets</th>\n",
       "    </tr>\n",
       "  </thead>\n",
       "  <tbody>\n",
       "    <tr>\n",
       "      <th>0</th>\n",
       "      <td>Duration (in seconds)</td>\n",
       "      <td>What is your age (# years)?</td>\n",
       "      <td>What is your gender? - Selected Choice</td>\n",
       "      <td>In which country do you currently reside?</td>\n",
       "      <td>Are you currently a student? (high school, uni...</td>\n",
       "      <td>On which platforms have you begun or completed...</td>\n",
       "      <td>On which platforms have you begun or completed...</td>\n",
       "      <td>On which platforms have you begun or completed...</td>\n",
       "      <td>On which platforms have you begun or completed...</td>\n",
       "      <td>On which platforms have you begun or completed...</td>\n",
       "      <td>...</td>\n",
       "      <td>Who/what are your favorite media sources that ...</td>\n",
       "      <td>Who/what are your favorite media sources that ...</td>\n",
       "      <td>Who/what are your favorite media sources that ...</td>\n",
       "      <td>Who/what are your favorite media sources that ...</td>\n",
       "      <td>Who/what are your favorite media sources that ...</td>\n",
       "      <td>Who/what are your favorite media sources that ...</td>\n",
       "      <td>Who/what are your favorite media sources that ...</td>\n",
       "      <td>Who/what are your favorite media sources that ...</td>\n",
       "      <td>NaN</td>\n",
       "      <td>NaN</td>\n",
       "    </tr>\n",
       "    <tr>\n",
       "      <th>1</th>\n",
       "      <td>851</td>\n",
       "      <td>55-59</td>\n",
       "      <td>Man</td>\n",
       "      <td>France</td>\n",
       "      <td>No</td>\n",
       "      <td>Coursera</td>\n",
       "      <td>NaN</td>\n",
       "      <td>Kaggle Learn Courses</td>\n",
       "      <td>NaN</td>\n",
       "      <td>NaN</td>\n",
       "      <td>...</td>\n",
       "      <td>Course Forums (forums.fast.ai, Coursera forums...</td>\n",
       "      <td>NaN</td>\n",
       "      <td>NaN</td>\n",
       "      <td>Blogs (Towards Data Science, Analytics Vidhya,...</td>\n",
       "      <td>NaN</td>\n",
       "      <td>NaN</td>\n",
       "      <td>NaN</td>\n",
       "      <td>NaN</td>\n",
       "      <td>2.0</td>\n",
       "      <td>20,000-29,999</td>\n",
       "    </tr>\n",
       "    <tr>\n",
       "      <th>2</th>\n",
       "      <td>501</td>\n",
       "      <td>30-34</td>\n",
       "      <td>Man</td>\n",
       "      <td>Germany</td>\n",
       "      <td>No</td>\n",
       "      <td>Coursera</td>\n",
       "      <td>edX</td>\n",
       "      <td>NaN</td>\n",
       "      <td>NaN</td>\n",
       "      <td>NaN</td>\n",
       "      <td>...</td>\n",
       "      <td>NaN</td>\n",
       "      <td>YouTube (Kaggle YouTube, Cloud AI Adventures, ...</td>\n",
       "      <td>NaN</td>\n",
       "      <td>Blogs (Towards Data Science, Analytics Vidhya,...</td>\n",
       "      <td>NaN</td>\n",
       "      <td>NaN</td>\n",
       "      <td>NaN</td>\n",
       "      <td>NaN</td>\n",
       "      <td>10.0</td>\n",
       "      <td>100,000-124,999</td>\n",
       "    </tr>\n",
       "    <tr>\n",
       "      <th>3</th>\n",
       "      <td>787</td>\n",
       "      <td>70+</td>\n",
       "      <td>Man</td>\n",
       "      <td>Australia</td>\n",
       "      <td>No</td>\n",
       "      <td>Coursera</td>\n",
       "      <td>NaN</td>\n",
       "      <td>Kaggle Learn Courses</td>\n",
       "      <td>NaN</td>\n",
       "      <td>NaN</td>\n",
       "      <td>...</td>\n",
       "      <td>NaN</td>\n",
       "      <td>NaN</td>\n",
       "      <td>Podcasts (Chai Time Data Science, OEEReilly...</td>\n",
       "      <td>NaN</td>\n",
       "      <td>NaN</td>\n",
       "      <td>NaN</td>\n",
       "      <td>NaN</td>\n",
       "      <td>NaN</td>\n",
       "      <td>10.0</td>\n",
       "      <td>100,000-124,999</td>\n",
       "    </tr>\n",
       "    <tr>\n",
       "      <th>4</th>\n",
       "      <td>1132</td>\n",
       "      <td>40-44</td>\n",
       "      <td>Man</td>\n",
       "      <td>United States of America</td>\n",
       "      <td>No</td>\n",
       "      <td>Coursera</td>\n",
       "      <td>NaN</td>\n",
       "      <td>Kaggle Learn Courses</td>\n",
       "      <td>NaN</td>\n",
       "      <td>Fast.ai</td>\n",
       "      <td>...</td>\n",
       "      <td>NaN</td>\n",
       "      <td>NaN</td>\n",
       "      <td>Podcasts (Chai Time Data Science, OEEReilly...</td>\n",
       "      <td>Blogs (Towards Data Science, Analytics Vidhya,...</td>\n",
       "      <td>NaN</td>\n",
       "      <td>NaN</td>\n",
       "      <td>NaN</td>\n",
       "      <td>NaN</td>\n",
       "      <td>13.0</td>\n",
       "      <td>200,000-299,999</td>\n",
       "    </tr>\n",
       "  </tbody>\n",
       "</table>\n",
       "<p>5 rows × 298 columns</p>\n",
       "</div>"
      ],
      "text/plain": [
       "   Duration (in seconds)                           Q2  \\\n",
       "0  Duration (in seconds)  What is your age (# years)?   \n",
       "1                    851                        55-59   \n",
       "2                    501                        30-34   \n",
       "3                    787                          70+   \n",
       "4                   1132                        40-44   \n",
       "\n",
       "                                       Q3  \\\n",
       "0  What is your gender? - Selected Choice   \n",
       "1                                     Man   \n",
       "2                                     Man   \n",
       "3                                     Man   \n",
       "4                                     Man   \n",
       "\n",
       "                                          Q4  \\\n",
       "0  In which country do you currently reside?   \n",
       "1                                     France   \n",
       "2                                    Germany   \n",
       "3                                  Australia   \n",
       "4                   United States of America   \n",
       "\n",
       "                                                  Q5  \\\n",
       "0  Are you currently a student? (high school, uni...   \n",
       "1                                                 No   \n",
       "2                                                 No   \n",
       "3                                                 No   \n",
       "4                                                 No   \n",
       "\n",
       "                                                Q6_1  \\\n",
       "0  On which platforms have you begun or completed...   \n",
       "1                                           Coursera   \n",
       "2                                           Coursera   \n",
       "3                                           Coursera   \n",
       "4                                           Coursera   \n",
       "\n",
       "                                                Q6_2  \\\n",
       "0  On which platforms have you begun or completed...   \n",
       "1                                                NaN   \n",
       "2                                                edX   \n",
       "3                                                NaN   \n",
       "4                                                NaN   \n",
       "\n",
       "                                                Q6_3  \\\n",
       "0  On which platforms have you begun or completed...   \n",
       "1                               Kaggle Learn Courses   \n",
       "2                                                NaN   \n",
       "3                               Kaggle Learn Courses   \n",
       "4                               Kaggle Learn Courses   \n",
       "\n",
       "                                                Q6_4  \\\n",
       "0  On which platforms have you begun or completed...   \n",
       "1                                                NaN   \n",
       "2                                                NaN   \n",
       "3                                                NaN   \n",
       "4                                                NaN   \n",
       "\n",
       "                                                Q6_5  ...  \\\n",
       "0  On which platforms have you begun or completed...  ...   \n",
       "1                                                NaN  ...   \n",
       "2                                                NaN  ...   \n",
       "3                                                NaN  ...   \n",
       "4                                            Fast.ai  ...   \n",
       "\n",
       "                                               Q44_5  \\\n",
       "0  Who/what are your favorite media sources that ...   \n",
       "1  Course Forums (forums.fast.ai, Coursera forums...   \n",
       "2                                                NaN   \n",
       "3                                                NaN   \n",
       "4                                                NaN   \n",
       "\n",
       "                                               Q44_6  \\\n",
       "0  Who/what are your favorite media sources that ...   \n",
       "1                                                NaN   \n",
       "2  YouTube (Kaggle YouTube, Cloud AI Adventures, ...   \n",
       "3                                                NaN   \n",
       "4                                                NaN   \n",
       "\n",
       "                                               Q44_7  \\\n",
       "0  Who/what are your favorite media sources that ...   \n",
       "1                                                NaN   \n",
       "2                                                NaN   \n",
       "3  Podcasts (Chai Time Data Science, OEEReilly...   \n",
       "4  Podcasts (Chai Time Data Science, OEEReilly...   \n",
       "\n",
       "                                               Q44_8  \\\n",
       "0  Who/what are your favorite media sources that ...   \n",
       "1  Blogs (Towards Data Science, Analytics Vidhya,...   \n",
       "2  Blogs (Towards Data Science, Analytics Vidhya,...   \n",
       "3                                                NaN   \n",
       "4  Blogs (Towards Data Science, Analytics Vidhya,...   \n",
       "\n",
       "                                               Q44_9  \\\n",
       "0  Who/what are your favorite media sources that ...   \n",
       "1                                                NaN   \n",
       "2                                                NaN   \n",
       "3                                                NaN   \n",
       "4                                                NaN   \n",
       "\n",
       "                                              Q44_10  \\\n",
       "0  Who/what are your favorite media sources that ...   \n",
       "1                                                NaN   \n",
       "2                                                NaN   \n",
       "3                                                NaN   \n",
       "4                                                NaN   \n",
       "\n",
       "                                              Q44_11  \\\n",
       "0  Who/what are your favorite media sources that ...   \n",
       "1                                                NaN   \n",
       "2                                                NaN   \n",
       "3                                                NaN   \n",
       "4                                                NaN   \n",
       "\n",
       "                                              Q44_12 Q29_Encoded  \\\n",
       "0  Who/what are your favorite media sources that ...         NaN   \n",
       "1                                                NaN         2.0   \n",
       "2                                                NaN        10.0   \n",
       "3                                                NaN        10.0   \n",
       "4                                                NaN        13.0   \n",
       "\n",
       "       Q29_buckets  \n",
       "0              NaN  \n",
       "1    20,000-29,999  \n",
       "2  100,000-124,999  \n",
       "3  100,000-124,999  \n",
       "4  200,000-299,999  \n",
       "\n",
       "[5 rows x 298 columns]"
      ]
     },
     "execution_count": 1720,
     "metadata": {},
     "output_type": "execute_result"
    }
   ],
   "source": [
    "salaries.head()"
   ]
  },
  {
   "cell_type": "markdown",
   "id": "b24a1ab5",
   "metadata": {},
   "source": [
    "# Begining: Data Reading\n",
    "The main purpose of this step is to understand the meaning of each feature and the values it contains, while also considering how to process the data during the review.<p>\n",
    "1. Duration: Question details. Drop;\n",
    "2. Age\n",
    "3. Gender\n",
    "4. Country, Similar to project 1, it is divided into four parts: [low_income, lower_middle_income, upper_middle_income, high_income].\n",
    "5. Current Student, 1/0\n",
    "6. On which platforms have you begun or completed data science courses?\\\n",
    "        1. Coursera, 1/0; 2. edX, 1/0; 3. Kaggle Learn Courses, 1/0; 4. DataCampe, 1/0; 5. Fast.ai, 1/0; 6.Udacity, 1/0; \n",
    "        7. Udemy, 1/0; 8. Linkedln Learning, 1/0; 9. Cloud-certification programs, 1/0; 10. University Courses, 1/0; \n",
    "        11. None, Drop; 12. Other, Drop;\n",
    "7. What products or platforms did you find to be most helpful when you first started studying data science? (Select all that apply)\\\n",
    "        1. University courses, 1/0; 2. Online courses, 1/0; 3. Social media platforms, 1/0; 4. Video platforms, 1/0; 5. Kaggle, 1/0;\n",
    "        6. None / I do not study data science, they are not us, DROP&Remove row! 7. Other, Drop\n",
    "8. Education\n",
    "9. Published, 1/0\n",
    "10. Did your research make use of machine learning? (select multiple)\\\n",
    "        1. Theoretical Research, 1/0; 2.Applied Research, 1/0 3. No.\n",
    "        PS.I want to merge these three columns into one. If theoretical research has been published, the value should be 'Theoretical'; if applied research has been published, the value should be 'Applied'; if both have been published, the value should be 'Theoretical&Applied'; and if none have been published, the value should be 'Not Yet'\n",
    "11. Years of Coding/Programming.\n",
    "12. What programming languages do you use on a regular basis? 1/0, Drop Q12_14: None & Q12_15: Other.\n",
    "13. Which of the following integrated development environments (IDE's) do you use on a regular basis? 1/0, Drop Q13_13: None & Q13_14: Other.\n",
    "14. Do you use any of the following hosted notebook products?. Drop Q14_15:None & Q14_16: Other.\n",
    "15. Do you use any of the following data visualization libraries on a regular basis? Drop Q15_14:None & Q15_15: Other.\n",
    "16. Years of Machine Learning. Remove rows:I do not use machine learning methods. They are not us.\n",
    "17. Which of the following machine learning frameworks do you use on a regular basis? Drop Q17_14:None & Q17_15: Other.\n",
    "18. Which of the following ML algorithms do you use on a regular basis? Drop Q18_13: None & Q18_14: Other.\n",
    "19. Which categories of computer vision methods do you use on a regular basis? Drop Q19_7: None & Q19_8: Other.\n",
    "20. Which of the following natural language processing (NLP) methods do you use on a regular basis? Drop Q20_5: None & Q20_6: Other.\n",
    "21. Do you download pre-trained model weights from any of the following services? 1/0\n",
    "22. Which of the following ML model hubs/repositories do you use most often? 1/0\n",
    "23. Title of Current role.\n",
    "24. Industry\n",
    "25. Size of Company\n",
    "26. Approximately how many individuals are responsible for data science workloads at your place of business?\n",
    "27. Does your current employer incorporate machine learning methods into their business?\n",
    "28. Select any activities that make up an important part of your role at work. Drop Q28_7: None & Q28_8: Other.\n",
    "29. Yearly Compensation(USD)\n",
    "30. Spend on Service\n",
    "31. Which of the following cloud computing platforms do you use? Drop Q31_11: None & Q31_12: Other.\n",
    "32. Which Of the cloud platforms that you are familiar with, which has the best developer experience (most enjoyable to use)?\n",
    "33. Do you use any of the following cloud computing products? Drop Q33_4: None & Q33_5: Other.\n",
    "34. Do you use any of the following data storage products? Drop Q34_7: None & Q34_8: Other.\n",
    "35. Do you use any of the following data products (relational databases, data warehouses, data lakes, or similar)? Drop Q35_15: None & Q35_16: Other.\n",
    "36. Do you use any of the following business intelligence tools? Drop Q36_14: None & Q36_15: Other.\n",
    "37. Do you use any of the following managed machine learning products? Drop Q37_12: None & Q37_13: Other.\n",
    "38. Do you use any of the following automated machine learning tools? Drop Q38_7: None & Q38_8: Other.\n",
    "39. Do you use any of the following products to serve your machine learning models? Drop Q39_11: None & Q39_12: Other.\n",
    "40. Do you use any tools to help monitor your machine learning models and/or experiments? Drop Q40_14:None & Q40_15: Other.\n",
    "41. Do you use any of the following responsible or ethical AI products in your machine learning practices? Drop Q41_8: None & Q41_9: Other.\n",
    "42. Do you use any of the following types of specialized hardware when training machine learning models? Drop Q42_8: None & Q42_9: Other.\n",
    "43. Times used a TPU\n",
    "44. Who/what are your favorite media sources that report on data science topics? Drop Q44_11: None & Q44_12: Other.\n",
    "45. ‘Q29_buckets’ (Target Variable for Assignment 2) has been obtained by combining some salary buckets in the column ‘Q29’.\n",
    "46. ‘Q29_Encoded’ has been obtained by label encoding the column ‘Q29_buckets’.\n",
    "\n",
    "\n",
    "\n",
    "Citation<p>\n",
    "Paul Mooney. 2022 Kaggle Machine Learning & Data Science Survey. https://kaggle.com/competitions/kaggle-survey-2022, 2022. Kaggle.\n"
   ]
  },
  {
   "cell_type": "markdown",
   "id": "m1orhf7n3lHc",
   "metadata": {
    "id": "m1orhf7n3lHc"
   },
   "source": [
    "# Question 1: Data Cleaning"
   ]
  },
  {
   "cell_type": "markdown",
   "id": "O0rkunI2HIPb",
   "metadata": {
    "id": "O0rkunI2HIPb"
   },
   "source": [
    "- Drop the second row since it is about the question details\n",
    "- Drop other information too if they are irrelevant to the task"
   ]
  },
  {
   "cell_type": "code",
   "execution_count": 1721,
   "id": "Xq_yFQpkQLO8",
   "metadata": {
    "id": "Xq_yFQpkQLO8"
   },
   "outputs": [
    {
     "name": "stdout",
     "output_type": "stream",
     "text": [
      "(8137, 298)\n"
     ]
    }
   ],
   "source": [
    "# Create a list of column names want to drop based on Data Reading process.\n",
    "columns_to_drop = [\n",
    "    \"Duration (in seconds)\",\n",
    "    \"Q6_11\", \"Q6_12\",\n",
    "    \"Q7_6\", \"Q7_7\",\n",
    "    \"Q12_14\", \"Q12_15\",\n",
    "    \"Q13_13\", \"Q13_14\",\n",
    "    \"Q14_15\", \"Q14_16\",\n",
    "    \"Q15_14\", \"Q15_15\",\n",
    "    \"Q17_14\", \"Q17_15\",\n",
    "    \"Q18_13\", \"Q18_14\",\n",
    "    \"Q19_7\", \"Q19_8\",\n",
    "    \"Q20_5\", \"Q20_6\",\n",
    "    \"Q28_7\", \"Q28_8\",\n",
    "    \"Q31_11\", \"Q31_12\",\n",
    "    \"Q33_4\", \"Q33_5\",\n",
    "    \"Q34_7\", \"Q34_8\",\n",
    "    \"Q35_15\", \"Q35_16\",\n",
    "    \"Q36_14\", \"Q36_15\",\n",
    "    \"Q37_12\", \"Q37_13\",\n",
    "    \"Q38_7\", \"Q38_8\",\n",
    "    \"Q39_11\", \"Q39_12\",\n",
    "    \"Q40_14\", \"Q40_15\",\n",
    "    \"Q41_8\", \"Q41_9\",\n",
    "    \"Q42_8\", \"Q42_9\",\n",
    "    \"Q44_11\", \"Q44_12\"\n",
    "]\n",
    "\n",
    "# Function to clean the data\n",
    "def CleanData(df):\n",
    "    df = df.drop(columns=[col for col in columns_to_drop if col in df.columns])\n",
    "    return df\n",
    "# Create a new DF, to prevent modifying the original DF\n",
    "salaries_encode = salaries.copy()\n",
    "\n",
    "# Remove the first row, which contains the question text\n",
    "salaries_encode = salaries_encode.drop([0])\n",
    "# Clean the data\n",
    "salaries_encode = CleanData(salaries_encode)\n",
    "\n",
    "# Display column & row count\n",
    "print(salaries.shape)"
   ]
  },
  {
   "cell_type": "markdown",
   "id": "kswVTQwc5xeV",
   "metadata": {
    "id": "kswVTQwc5xeV"
   },
   "source": [
    "###**Impute missing values (single column responses)**\n",
    "\n",
    "1. Identify columns with single column responses\n",
    "\n",
    "2. Address missing values in those columns"
   ]
  },
  {
   "cell_type": "code",
   "execution_count": 1722,
   "id": "ZgdW5Uzj55Pd",
   "metadata": {
    "id": "ZgdW5Uzj55Pd"
   },
   "outputs": [],
   "source": [
    "# Create a list of single column names\n",
    "single_col_names = [col for col in salaries_encode.columns if not re.search(r'_\\d+$', col)]"
   ]
  },
  {
   "cell_type": "markdown",
   "id": "3a11abe2",
   "metadata": {},
   "source": [
    "###Read and understand the CSV"
   ]
  },
  {
   "cell_type": "code",
   "execution_count": 1723,
   "id": "d0f5d3f0",
   "metadata": {},
   "outputs": [
    {
     "name": "stdout",
     "output_type": "stream",
     "text": [
      "['Q2', 'Q3', 'Q4', 'Q5', 'Q8', 'Q9', 'Q11', 'Q16', 'Q22', 'Q23', 'Q24', 'Q25', 'Q26', 'Q27', 'Q29', 'Q30', 'Q32', 'Q43', 'Q29_Encoded', 'Q29_buckets']\n"
     ]
    }
   ],
   "source": [
    "# Output the cleaned data to a new CSV file\n",
    "#salaries_encode.to_csv(\"Check2.csv\", index=False)\n",
    "\n",
    "# Print the single column names\n",
    "print(single_col_names)\n"
   ]
  },
  {
   "cell_type": "markdown",
   "id": "_p3uIiOS-nV4",
   "metadata": {
    "id": "_p3uIiOS-nV4"
   },
   "source": [
    "###**Encode categorical features (sinlge column responses)**"
   ]
  },
  {
   "cell_type": "code",
   "execution_count": 1724,
   "id": "njKbxR1oRdJl",
   "metadata": {
    "id": "njKbxR1oRdJl"
   },
   "outputs": [
    {
     "name": "stdout",
     "output_type": "stream",
     "text": [
      "Number of missing values in Age: 0\n",
      "Number of missing values in Sex: 119\n"
     ]
    }
   ],
   "source": [
    "# Q2 - Age\n",
    "salaries_encode['Q2'] = salaries_encode['Q2'].apply(\n",
    "    lambda x: 1 if x == '18-21' \n",
    "    else 2 if x == '22-24' \n",
    "    else 3 if x == '25-29' \n",
    "    else 4 if x == '30-34' \n",
    "    else 5 if x == '35-39' \n",
    "    else 6 if x == '40-44' \n",
    "    else 7 if x == '45-49' \n",
    "    else 8 if x == '50-54' \n",
    "    else 9 if x == '55-59' \n",
    "    else 10 if x == '60-69' \n",
    "    else 11 if x == '70+'\n",
    "    else None\n",
    ")\n",
    "salaries_encode.rename(columns={'Q2': 'Age'}, inplace=True)\n",
    "print('Number of missing values in Age:',salaries_encode['Age'].isnull().sum())\n",
    "\n",
    "# Q3 - Gender, replace Gender column to Sex\n",
    "salaries_encode['Q3'] = salaries_encode['Q3'].apply(\n",
    "    lambda x: 1 if x == 'Man' \n",
    "    else 0 if x == 'Woman'\n",
    "    else None\n",
    ")\n",
    "salaries_encode.rename(columns={'Q3': 'Sex'}, inplace=True)\n",
    "\n",
    "# Drop rows with missing values in 'Sex'\n",
    "print('Number of missing values in Sex:', salaries_encode['Sex'].isnull().sum())\n",
    "salaries_encode.dropna(subset=['Sex'], inplace=True)\n"
   ]
  },
  {
   "cell_type": "code",
   "execution_count": 1725,
   "id": "2657bf71",
   "metadata": {},
   "outputs": [
    {
     "name": "stdout",
     "output_type": "stream",
     "text": [
      "Number of missing values in Country: 0\n"
     ]
    }
   ],
   "source": [
    "# Q4 - Country\n",
    "# Source: https://datahelpdesk.worldbank.org/knowledgebase/articles/906519-world-bank-country-and-lending-groups\n",
    "low_income_economies = [\n",
    "    \"Afghanistan\", \"Korea, Dem. People's Rep\", \"South Sudan\", \"Burkina Faso\", \"Liberia\",\n",
    "    \"Sudan\", \"Burundi\", \"Madagascar\", \"Syrian Arab Republic\", \"Central African Republic\",\n",
    "    \"Malawi\", \"Togo\", \"Chad\", \"Mali\", \"Uganda\", \"Congo, Dem. Rep\", \"Mozambique\", \"Yemen, Rep.\",\n",
    "    \"Eritrea\", \"Niger\", \"Ethiopia\", \"Rwanda\", \"Gambia, The\", \"Sierra Leone\", \"Guinea-Bissau\", \"Somalia\"\n",
    "]\n",
    "\n",
    "lower_middle_income_economies = [\n",
    "    \"Angola\", \"Honduras\", \"Papua New Guinea\", \"Bangladesh\", \"India\", \"Philippines\", \"Benin\", \n",
    "    \"Jordan\", \"Samoa\", \"Bhutan\", \"Kenya\", \"São Tomé and Principe\", \"Bolivia\", \"Kiribati\", \n",
    "    \"Senegal\", \"Cabo Verde\", \"Kyrgyz Republic\", \"Solomon Islands\", \"Cambodia\", \"Lao PDR\", \n",
    "    \"Sri Lanka\", \"Cameroon\", \"Lebanon\", \"Tajikistan\", \"Comoros\", \"Lesotho\", \"Tanzania\", \n",
    "    \"Congo, Rep.\", \"Mauritania\", \"Timor-Leste\", \"Côte d'Ivoire\", \"Micronesia, Fed. Sts.\", \n",
    "    \"Tunisia\", \"Djibouti\", \"Morocco\", \"Uzbekistan\", \"Egypt, Arab Rep.\", \"Myanmar\", \n",
    "    \"Vanuatu\", \"Eswatini\", \"Nepal\", \"Viet Nam\", \"Ghana\", \"Nicaragua\", \"West Bank and Gaza\", \n",
    "    \"Guinea\", \"Nigeria\", \"Zambia\", \"Haiti\", \"Pakistan\", \"Zimbabwe\"\n",
    "]\n",
    "\n",
    "upper_middle_income_economies = [\n",
    "    \"Albania\", \"Equatorial Guinea\", \"Moldova\", \"Algeria\", \"Fiji\", \"Mongolia\", \"Argentina\", \n",
    "    \"Gabon\", \"Montenegro\", \"Armenia\", \"Georgia\", \"Namibia\", \"Azerbaijan\", \"Grenada\", \n",
    "    \"North Macedonia\", \"Belarus\", \"Guatemala\", \"Paraguay\", \"Belize\", \"Indonesia\", \"Peru\", \n",
    "    \"Bosnia and Herzegovina\", \"Iran, Islamic Rep.\", \"Serbia\", \"Botswana\", \"Iraq\", \n",
    "    \"South Africa\", \"Brazil\", \"Jamaica\", \"St. Lucia\", \"China\", \"Kazakhstan\", \n",
    "    \"St. Vincent and the Grenadines\", \"Colombia\", \"Kosovo\", \"Suriname\", \"Costa Rica\", \n",
    "    \"Libya\", \"Thailand\", \"Cuba\", \"Malaysia\", \"Tonga\", \"Dominica\", \"Maldives\", \"Türkiye\", \n",
    "    \"Dominican Republic\", \"Marshall Islands\", \"Turkmenistan\", \"Ecuador\", \"Mauritius\", \n",
    "    \"Tuvalu\", \"El Salvador\", \"Mexico\", \"Ukraine\", 'Turkey', 'Egypt'\n",
    "]\n",
    "\n",
    "high_income_economies = [\n",
    "    \"American Samoa\", \"Gibraltar\", \"Palau\", \"Andorra\", \"Greece\", \"Panama\", \"Antigua and Barbuda\", \n",
    "    \"Greenland\", \"Poland\", \"Aruba\", \"Guam\", \"Portugal\", \"Australia\", \"Guyana\", \"Puerto Rico\", \n",
    "    \"Austria\", \"Hong Kong SAR, China\", \"Qatar\", \"Bahamas, The\", \"Hungary\", \"Romania\", \"Bahrain\", \n",
    "    \"Iceland\", \"Russian Federation\", \"Barbados\", \"Ireland\", \"San Marino\", \"Belgium\", \"Isle of Man\", \n",
    "    \"Saudi Arabia\", \"Bermuda\", \"Israel\", \"Seychelles\", \"British Virgin Islands\", \"Italy\", \n",
    "    \"Singapore\", \"Brunei Darussalam\", \"Japan\", \"Sint Maarten (Dutch part)\", \"Bulgaria\", \n",
    "    \"South Korea\", \"Slovak Republic\", \"Canada\", \"Kuwait\", \"Slovenia\", \"Cayman Islands\", \n",
    "    \"Latvia\", \"Spain\", \"Channel Islands\", \"Liechtenstein\", \"St. Kitts and Nevis\", \n",
    "    \"Chile\", \"Lithuania\", \"St. Martin (French part)\", \"Croatia\", \"Luxembourg\", \n",
    "    \"Sweden\", \"Curaçao\", \"Macao SAR, China\", \"Switzerland\", \"Cyprus\", \"Malta\", \"Taiwan, China\", \n",
    "    \"Czechia\", \"Monaco\", \"Trinidad and Tobago\", \"Denmark\", \"Nauru\", \"Turks and Caicos Islands\", \n",
    "    \"Estonia\", \"Netherlands\", \"United Arab Emirates\", \"Faroe Islands\", \"New Caledonia\", \n",
    "    \"United Kingdom\", \"Finland\", \"New Zealand\", \"United States of America\", \"France\", \n",
    "    \"Northern Mariana Islands\", \"Uruguay\", \"French Polynesia\", \"Norway\", \"Virgin Islands (U.S.)\", \n",
    "    \"Germany\", \"Oman\", 'United Kingdom of Great Britain and Northern Ireland'\n",
    "]\n",
    "\n",
    "# List of top 15 countries by military expenditure in 2023 https://worldpopulationreview.com/country-rankings/most-powerful-countries\n",
    "top_10_countries = ['United States of America','China','Russia', 'Germany',\n",
    "                    'United Kingdom of Great Britain and Northern Ireland',\n",
    "                    'South Korea','France','Japan', 'Saudi Arabia', 'United Arab Emirates']\n",
    "\n",
    "# Function to classify countries based on the provided income lists\n",
    "def classify_country_by_income(country):\n",
    "    if country in high_income_economies:\n",
    "        return 4\n",
    "    elif country in upper_middle_income_economies:\n",
    "        return 3\n",
    "    elif country in lower_middle_income_economies:\n",
    "        return 2\n",
    "    elif country in low_income_economies:\n",
    "        return 1\n",
    "    else:\n",
    "        return np.nan  \n",
    "\n",
    "# Apply the function to the 'Country' column\n",
    "salaries_encode['top_10_countries'] = salaries_encode['Q4'].apply(\n",
    "    lambda x: 1 if x in top_10_countries \n",
    "    else 0 \n",
    ")\n",
    "salaries_encode.rename(columns={'top_10_countries': 'new_feature1'}, inplace=True)\n",
    "\n",
    "# Apply the function to the 'Country' column\n",
    "salaries_encode['Q4'] = salaries_encode['Q4'].apply(classify_country_by_income)\n",
    "salaries_encode.rename(columns={'Q4': 'Country'}, inplace=True)\n",
    "\n",
    "salaries_encode.dropna(subset=['Country'], inplace=True)\n",
    "print('Number of missing values in Country:', salaries_encode['Country'].isnull().sum())"
   ]
  },
  {
   "cell_type": "code",
   "execution_count": 1726,
   "id": "d0b8f6d9",
   "metadata": {},
   "outputs": [
    {
     "name": "stdout",
     "output_type": "stream",
     "text": [
      "Q5\n",
      "No    7230\n",
      "Name: count, dtype: int64\n"
     ]
    }
   ],
   "source": [
    "# Q5 - Current Student\n",
    "print(salaries_encode['Q5'].value_counts())\n",
    "\n",
    "# Drop the 'Q5' column\n",
    "salaries_encode.drop(columns=['Q5'], inplace=True)"
   ]
  },
  {
   "cell_type": "code",
   "execution_count": 1727,
   "id": "8f534ee7",
   "metadata": {},
   "outputs": [
    {
     "name": "stdout",
     "output_type": "stream",
     "text": [
      "Number of missing values in Education: 0\n"
     ]
    }
   ],
   "source": [
    "# Q8 - Education\n",
    "# Education Level\n",
    "def categorize_education_level(ed_level):\n",
    "    \n",
    "    # Categorize based on keywords\n",
    "    if ed_level.lower().startswith('no formal'):\n",
    "        return 1\n",
    "    elif ed_level.lower().startswith('some college'):\n",
    "        return 2\n",
    "    elif ed_level.lower().startswith('bachelor'):\n",
    "        return 3\n",
    "    elif ed_level.lower().startswith('master'):\n",
    "        return 4\n",
    "    elif ed_level.lower().startswith('doctoral'):\n",
    "        return 5\n",
    "    elif ed_level.lower().startswith('professional'):\n",
    "        return 6\n",
    "    else:\n",
    "        return None\n",
    "\n",
    "# Apply the function to the 'EdLevel' column\n",
    "salaries_encode['Q8'] = salaries_encode['Q8'].apply(categorize_education_level)\n",
    "salaries_encode.rename(columns={'Q8': 'Education'}, inplace=True)\n",
    "\n",
    "# 363 rows with missing values in Education\n",
    "salaries_encode.dropna(subset=['Education'], inplace=True)\n",
    "\n",
    "print('Number of missing values in Education:', salaries_encode['Education'].isnull().sum())"
   ]
  },
  {
   "cell_type": "code",
   "execution_count": 1728,
   "id": "260f9a8d",
   "metadata": {},
   "outputs": [
    {
     "name": "stdout",
     "output_type": "stream",
     "text": [
      "[nan 'They all had a similarly enjoyable developer experience'\n",
      " 'Microsoft Azure' 'Alibaba Cloud' 'Amazon Web Services (AWS)'\n",
      " 'None were satisfactory' 'Google Cloud Platform (GCP)' 'VMware Cloud'\n",
      " 'IBM Cloud / Red Hat' 'Oracle Cloud' 'Other' 'SAP Cloud' 'Tencent Cloud']\n"
     ]
    }
   ],
   "source": [
    "print(salaries_encode['Q32'].unique())"
   ]
  },
  {
   "cell_type": "code",
   "execution_count": 1729,
   "id": "288c284e",
   "metadata": {},
   "outputs": [
    {
     "name": "stdout",
     "output_type": "stream",
     "text": [
      "Q9\n",
      "Yes    2326\n",
      "No     2253\n",
      "Name: count, dtype: int64\n"
     ]
    }
   ],
   "source": [
    "# Q9 - Published\n",
    "print(salaries_encode['Q9'].value_counts())\n",
    "\n",
    "# There are more than 2253 people did not responce this question. Thus I delete this question.\n",
    "salaries_encode.drop(columns=['Q9'], inplace=True)"
   ]
  },
  {
   "cell_type": "code",
   "execution_count": 1730,
   "id": "7a8de85e",
   "metadata": {},
   "outputs": [
    {
     "name": "stdout",
     "output_type": "stream",
     "text": [
      "Number of missing values in Years_coding: 0\n",
      "Number of missing values in Years_ML: 572\n",
      "Number of missing values in ML_models: 4948\n"
     ]
    }
   ],
   "source": [
    "# Q11 - Years of Coding Experience\n",
    "salaries_encode['Q11'] = salaries_encode['Q11'].apply(\n",
    "    lambda x: 1 if x == 'I have never written code' \n",
    "    else 2 if x == '< 1 years' \n",
    "    else 3 if x == '1-3 years' \n",
    "    else 4 if x == '3-5 years' \n",
    "    else 5 if x == '5-10 years' \n",
    "    else 6 if x == '10-20 years' \n",
    "    else 7 if x == '20+ years'\n",
    "    else None\n",
    ")\n",
    "salaries_encode.rename(columns={'Q11': 'Years_coding'}, inplace=True)\n",
    "print('Number of missing values in Years_coding:', salaries_encode['Years_coding'].isnull().sum())\n",
    "\n",
    "# Q16 - Years of ML Experience\n",
    "salaries_encode['Q16'] = salaries_encode['Q16'].apply(\n",
    "    lambda x: 1 if x == 'I do not use machine learning methods' \n",
    "    else 2 if x == 'Under 1 year' \n",
    "    else 3 if x == '1-2 years' \n",
    "    else 4 if x == '2-3 years' \n",
    "    else 5 if x == '3-4 years' \n",
    "    else 6 if x == '4-5 years' \n",
    "    else 7 if x == '5-10 years' \n",
    "    else 8 if x == '10-20 years' \n",
    "    else None\n",
    ")\n",
    "salaries_encode.rename(columns={'Q16': 'Years_ML'}, inplace=True)\n",
    "# 527 missing value\n",
    "print('Number of missing values in Years_ML:', salaries_encode['Years_ML'].isnull().sum())\n",
    "salaries_encode.dropna(subset=['Years_ML'], inplace=True)\n",
    "\n",
    "\n",
    "# Q22 - ML models\n",
    "salaries_encode.rename(columns={'Q22': 'ML_models'}, inplace=True)\n",
    "print('Number of missing values in ML_models:', salaries_encode['ML_models'].isnull().sum())\n",
    "# There are 4948 missing values in ML_models. Thus I drop this column.\n",
    "salaries_encode.drop(columns=['ML_models'], inplace=True)"
   ]
  },
  {
   "cell_type": "code",
   "execution_count": 1731,
   "id": "40b8098c",
   "metadata": {},
   "outputs": [
    {
     "data": {
      "text/plain": [
       "Q23_Data_Scientist                                                      0\n",
       "Q23_Software_Engineer                                                   0\n",
       "Q23_Research_Scientist                                                  0\n",
       "Q23_Developer_Advocate                                                  0\n",
       "Q23_Data_Analyst_(Business,_Marketing,_Financial,_Quantitative,_etc)    0\n",
       "Q23_Data_Engineer                                                       0\n",
       "Q23_Machine_Learning__MLops_Engineer                                    0\n",
       "Q23_Engineer_(non-software)                                             0\n",
       "Q23_Teacher___professor                                                 0\n",
       "Q23_Manager_(Program,_Project,_Operations,_Executive-level,_etc)        0\n",
       "Q23_Data_Administrator                                                  0\n",
       "Q23_Statistician                                                        0\n",
       "Q23_Data_Architect                                                      0\n",
       "dtype: int64"
      ]
     },
     "execution_count": 1731,
     "metadata": {},
     "output_type": "execute_result"
    }
   ],
   "source": [
    "# Q23 - Current Role\n",
    "for role in salaries_encode['Q23'].unique():\n",
    "    column_name = f\"Q23_{role.replace(' ', '_').replace('/', '_')}\"\n",
    "    salaries_encode[column_name] = salaries_encode['Q23'].apply(lambda x: 1 if x == role else 0)\n",
    "\n",
    "\n",
    "# Drop the 'Q23' column and ‘Q23_Other’ column\n",
    "salaries_encode.drop(['Q23', 'Q23_Other'], axis=1, inplace=True, errors='ignore')\n",
    "q23_columns = [col for col in salaries_encode.columns if 'Q23' in col]\n",
    "\n",
    "# Check the missing values in the columns\n",
    "missing_values_q23 = salaries_encode[q23_columns].isnull().sum()\n",
    "missing_values_q23\n"
   ]
  },
  {
   "cell_type": "code",
   "execution_count": 1732,
   "id": "71b44cde",
   "metadata": {},
   "outputs": [
    {
     "data": {
      "text/plain": [
       "Q24_Online_Service_Internet-based_Services    0\n",
       "Q24_Insurance_Risk_Assessment                 0\n",
       "Q24_Government_Public_Service                 0\n",
       "Q24_Computers_Technology                      0\n",
       "Q24_Accounting_Finance                        0\n",
       "Q24_Academics_Education                       0\n",
       "Q24_Medical_Pharmaceutical                    0\n",
       "Q24_Marketing_CRM                             0\n",
       "Q24_Manufacturing_Fabrication                 0\n",
       "Q24_Retail_Sales                              0\n",
       "Q24_Non-profit_Service                        0\n",
       "Q24_Energy_Mining                             0\n",
       "Q24_Broadcasting_Communications               0\n",
       "Q24_Shipping_Transportation                   0\n",
       "dtype: int64"
      ]
     },
     "execution_count": 1732,
     "metadata": {},
     "output_type": "execute_result"
    }
   ],
   "source": [
    "# Q24 - Industry\n",
    "for role in salaries_encode['Q24'].unique():\n",
    "    column_name = f\"Q24_{role.replace(' ', '_').replace('/', '_')}\"\n",
    "    salaries_encode[column_name] = salaries_encode['Q24'].apply(lambda x: 1 if x == role else 0)\n",
    "\n",
    "\n",
    "# Drop the 'Q23' column and ‘Q23_Other’ column\n",
    "salaries_encode.drop(['Q24', 'Q24_Other'], axis=1, inplace=True, errors='ignore')\n",
    "q24_columns = [col for col in salaries_encode.columns if 'Q24' in col]\n",
    "\n",
    "# Check the missing values in the columns\n",
    "missing_values_q24 = salaries_encode[q24_columns].isnull().sum()\n",
    "missing_values_q24"
   ]
  },
  {
   "cell_type": "code",
   "execution_count": 1733,
   "id": "337eff9b",
   "metadata": {},
   "outputs": [
    {
     "name": "stdout",
     "output_type": "stream",
     "text": [
      "Number of missing values in Company_Size: 0\n",
      "Number of missing values in Team_Size: 0\n"
     ]
    }
   ],
   "source": [
    "# Q25 - Company Size\n",
    "salaries_encode['Q25'] = salaries_encode['Q25'].apply(\n",
    "    lambda x: 1 if x == '0-49 employees'\n",
    "    else 2 if x == '50-249 employees'\n",
    "    else 3 if x == '250-999 employees'\n",
    "    else 4 if x == '1000-9,999 employees'\n",
    "    else 5 if x == '10,000 or more employees'\n",
    "    else None\n",
    ")\n",
    "salaries_encode.rename(columns={'Q25': 'Company_Size'}, inplace=True)\n",
    "print('Number of missing values in Company_Size:', salaries_encode['Company_Size'].isnull().sum())\n",
    "\n",
    "\n",
    "# Q26 - Team Size (Excel sheet set the row to Month, so I changed it to Team Size)\n",
    "salaries_encode['Q26'] = salaries_encode['Q26'].apply(\n",
    "    lambda x: 1 if x == '0' \n",
    "    else 2 if x == '2-Jan' \n",
    "    else 3 if x == '4-Mar' \n",
    "    else 4 if x == '9-May' \n",
    "    else 5 if x == '14-Oct' \n",
    "    else 6 if x == '15-19' \n",
    "    else 7 if x == '20+'\n",
    "    else None\n",
    ")\n",
    "salaries_encode.rename(columns={'Q26': 'Team_Size'}, inplace=True)\n",
    "print('Number of missing values in Team_Size:', salaries_encode['Team_Size'].isnull().sum())"
   ]
  },
  {
   "cell_type": "code",
   "execution_count": 1734,
   "id": "72f63682",
   "metadata": {},
   "outputs": [
    {
     "data": {
      "text/plain": [
       "Q27_We_recently_started_using_ML_methods_(i.e.,_models_in_production_for_less_than_2_years)      0\n",
       "Q27_We_have_well_established_ML_methods_(i.e.,_models_in_production_for_more_than_2_years)       0\n",
       "Q27_We_are_exploring_ML_methods_(and_may_one_day_put_a_model_into_production)                    0\n",
       "Q27_I_do_not_know                                                                                0\n",
       "Q27_No_(we_do_not_use_ML_methods)                                                                0\n",
       "Q27_We_use_ML_methods_for_generating_insights_(but_do_not_put_working_models_into_production)    0\n",
       "dtype: int64"
      ]
     },
     "execution_count": 1734,
     "metadata": {},
     "output_type": "execute_result"
    }
   ],
   "source": [
    "# Q27 - Incorporate ML\n",
    "for role in salaries_encode['Q27'].unique():\n",
    "    column_name = f\"Q27_{role.replace(' ', '_').replace('/', '_')}\"\n",
    "    salaries_encode[column_name] = salaries_encode['Q27'].apply(lambda x: 1 if x == role else 0)\n",
    "\n",
    "\n",
    "# Drop the 'Q23' column and ‘Q23_Other’ column\n",
    "salaries_encode.drop(['Q27', 'Q27_I_do_not_know '], axis=1, inplace=True, errors='ignore')\n",
    "q27_columns = [col for col in salaries_encode.columns if 'Q27' in col]\n",
    "\n",
    "# Check the missing values in the columns\n",
    "missing_values_q27 = salaries_encode[q27_columns].isnull().sum()\n",
    "missing_values_q27"
   ]
  },
  {
   "cell_type": "code",
   "execution_count": 1735,
   "id": "5342adbb",
   "metadata": {},
   "outputs": [
    {
     "name": "stdout",
     "output_type": "stream",
     "text": [
      "Number of missing values in Money_Spent_ML: 0\n",
      "Number of missing values in Cloud_Platforms: 4658\n",
      "Number of missing values in TPU_Times: 2491\n"
     ]
    }
   ],
   "source": [
    "# Q30 - Money Spent on ML\n",
    "salaries_encode['Q30'] = salaries_encode['Q30'].apply(\n",
    "    lambda x: 1 if x == '$0 ($USD)' \n",
    "    else 2 if x == '$1-$99' \n",
    "    else 3 if x == '$100-$999' \n",
    "    else 4 if x == '$1000-$9,999' \n",
    "    else 5 if x == '$10,000-$99,999' \n",
    "    else 6 if x == '$100,000 or more ($USD)'\n",
    "    else None\n",
    ")\n",
    "salaries_encode.rename(columns={'Q30': 'Money_Spent_ML'}, inplace=True)\n",
    "# 38 missing value \n",
    "salaries_encode.dropna(subset=['Money_Spent_ML'], inplace=True)\n",
    "print('Number of missing values in Money_Spent_ML:', salaries_encode['Money_Spent_ML'].isnull().sum())\n",
    "\n",
    "\n",
    "# Q32 - Cloud Platforms\n",
    "salaries_encode.rename(columns={'Q32': 'Cloud_Platforms'}, inplace=True)\n",
    "print('Number of missing values in Cloud_Platforms:', salaries_encode['Cloud_Platforms'].isnull().sum())\n",
    "\n",
    "# There are 4696 missing values in Cloud_Platforms. So I drop this column.\n",
    "salaries_encode.drop(columns=['Cloud_Platforms'], inplace=True)\n",
    "\n",
    "# Q43 - TPU Times\n",
    "salaries_encode.rename(columns={'Q43': 'TPU_Times'}, inplace=True)\n",
    "print('Number of missing values in TPU_Times:', salaries_encode['TPU_Times'].isnull().sum())\n",
    "\n",
    "# There are 2529 missing values in TPU_Times. So I drop this column.\n",
    "salaries_encode.drop(columns=['TPU_Times'], inplace=True)"
   ]
  },
  {
   "cell_type": "code",
   "execution_count": 1736,
   "id": "e3a771e5",
   "metadata": {},
   "outputs": [
    {
     "data": {
      "text/plain": [
       "(6257, 277)"
      ]
     },
     "execution_count": 1736,
     "metadata": {},
     "output_type": "execute_result"
    }
   ],
   "source": [
    "salaries_encode.shape"
   ]
  },
  {
   "cell_type": "markdown",
   "id": "02aiBHNLCgRr",
   "metadata": {
    "id": "02aiBHNLCgRr"
   },
   "source": [
    "###**Handling categorical features (multi column responses)**"
   ]
  },
  {
   "cell_type": "code",
   "execution_count": 1737,
   "id": "eWODUK9iCzaR",
   "metadata": {
    "id": "eWODUK9iCzaR"
   },
   "outputs": [
    {
     "name": "stdout",
     "output_type": "stream",
     "text": [
      "['Q6_1', 'Q6_2', 'Q6_3', 'Q6_4', 'Q6_5', 'Q6_6', 'Q6_7', 'Q6_8', 'Q6_9', 'Q6_10', 'Q7_1', 'Q7_2', 'Q7_3', 'Q7_4', 'Q7_5', 'Q10_1', 'Q10_2', 'Q10_3', 'Q12_1', 'Q12_2', 'Q12_3', 'Q12_4', 'Q12_5', 'Q12_6', 'Q12_7', 'Q12_8', 'Q12_9', 'Q12_10', 'Q12_11', 'Q12_12', 'Q12_13', 'Q13_1', 'Q13_2', 'Q13_3', 'Q13_4', 'Q13_5', 'Q13_6', 'Q13_7', 'Q13_8', 'Q13_9', 'Q13_10', 'Q13_11', 'Q13_12', 'Q14_1', 'Q14_2', 'Q14_3', 'Q14_4', 'Q14_5', 'Q14_6', 'Q14_7', 'Q14_8', 'Q14_9', 'Q14_10', 'Q14_11', 'Q14_12', 'Q14_13', 'Q14_14', 'Q15_1', 'Q15_2', 'Q15_3', 'Q15_4', 'Q15_5', 'Q15_6', 'Q15_7', 'Q15_8', 'Q15_9', 'Q15_10', 'Q15_11', 'Q15_12', 'Q15_13', 'Q17_1', 'Q17_2', 'Q17_3', 'Q17_4', 'Q17_5', 'Q17_6', 'Q17_7', 'Q17_8', 'Q17_9', 'Q17_10', 'Q17_11', 'Q17_12', 'Q17_13', 'Q18_1', 'Q18_2', 'Q18_3', 'Q18_4', 'Q18_5', 'Q18_6', 'Q18_7', 'Q18_8', 'Q18_9', 'Q18_10', 'Q18_11', 'Q18_12', 'Q19_1', 'Q19_2', 'Q19_3', 'Q19_4', 'Q19_5', 'Q19_6', 'Q20_1', 'Q20_2', 'Q20_3', 'Q20_4', 'Q21_1', 'Q21_2', 'Q21_3', 'Q21_4', 'Q21_5', 'Q21_6', 'Q21_7', 'Q21_8', 'Q21_9', 'Q21_10', 'Q28_1', 'Q28_2', 'Q28_3', 'Q28_4', 'Q28_5', 'Q28_6', 'Q31_1', 'Q31_2', 'Q31_3', 'Q31_4', 'Q31_5', 'Q31_6', 'Q31_7', 'Q31_8', 'Q31_9', 'Q31_10', 'Q33_1', 'Q33_2', 'Q33_3', 'Q34_1', 'Q34_2', 'Q34_3', 'Q34_4', 'Q34_5', 'Q34_6', 'Q35_1', 'Q35_2', 'Q35_3', 'Q35_4', 'Q35_5', 'Q35_6', 'Q35_7', 'Q35_8', 'Q35_9', 'Q35_10', 'Q35_11', 'Q35_12', 'Q35_13', 'Q35_14', 'Q36_1', 'Q36_2', 'Q36_3', 'Q36_4', 'Q36_5', 'Q36_6', 'Q36_7', 'Q36_8', 'Q36_9', 'Q36_10', 'Q36_11', 'Q36_12', 'Q36_13', 'Q37_1', 'Q37_2', 'Q37_3', 'Q37_4', 'Q37_5', 'Q37_6', 'Q37_7', 'Q37_8', 'Q37_9', 'Q37_10', 'Q37_11', 'Q38_1', 'Q38_2', 'Q38_3', 'Q38_4', 'Q38_5', 'Q38_6', 'Q39_1', 'Q39_2', 'Q39_3', 'Q39_4', 'Q39_5', 'Q39_6', 'Q39_7', 'Q39_8', 'Q39_9', 'Q39_10', 'Q40_1', 'Q40_2', 'Q40_3', 'Q40_4', 'Q40_5', 'Q40_6', 'Q40_7', 'Q40_8', 'Q40_9', 'Q40_10', 'Q40_11', 'Q40_12', 'Q40_13', 'Q41_1', 'Q41_2', 'Q41_3', 'Q41_4', 'Q41_5', 'Q41_6', 'Q41_7', 'Q42_1', 'Q42_2', 'Q42_3', 'Q42_4', 'Q42_5', 'Q42_6', 'Q42_7', 'Q44_1', 'Q44_2', 'Q44_3', 'Q44_4', 'Q44_5', 'Q44_6', 'Q44_7', 'Q44_8', 'Q44_9', 'Q44_10', 'Q23_Data_Scientist', 'Q23_Software_Engineer', 'Q23_Research_Scientist', 'Q23_Developer_Advocate', 'Q23_Data_Analyst_(Business,_Marketing,_Financial,_Quantitative,_etc)', 'Q23_Data_Engineer', 'Q23_Machine_Learning__MLops_Engineer', 'Q23_Engineer_(non-software)', 'Q23_Teacher___professor', 'Q23_Manager_(Program,_Project,_Operations,_Executive-level,_etc)', 'Q23_Data_Administrator', 'Q23_Statistician', 'Q23_Data_Architect', 'Q24_Online_Service_Internet-based_Services', 'Q24_Insurance_Risk_Assessment', 'Q24_Government_Public_Service', 'Q24_Computers_Technology', 'Q24_Accounting_Finance', 'Q24_Academics_Education', 'Q24_Medical_Pharmaceutical', 'Q24_Marketing_CRM', 'Q24_Manufacturing_Fabrication', 'Q24_Retail_Sales', 'Q24_Non-profit_Service', 'Q24_Energy_Mining', 'Q24_Broadcasting_Communications', 'Q24_Shipping_Transportation', 'Q27_We_recently_started_using_ML_methods_(i.e.,_models_in_production_for_less_than_2_years)', 'Q27_We_have_well_established_ML_methods_(i.e.,_models_in_production_for_more_than_2_years)', 'Q27_We_are_exploring_ML_methods_(and_may_one_day_put_a_model_into_production)', 'Q27_I_do_not_know', 'Q27_No_(we_do_not_use_ML_methods)', 'Q27_We_use_ML_methods_for_generating_insights_(but_do_not_put_working_models_into_production)']\n"
     ]
    }
   ],
   "source": [
    "# Obtain the multi-column names\n",
    "multi_col_names = [ col for col in salaries_encode.columns if col not in single_col_names and col.startswith('Q')]\n",
    "\n",
    "# Display the multi-column names\n",
    "print(multi_col_names)"
   ]
  },
  {
   "cell_type": "markdown",
   "id": "0812830f",
   "metadata": {},
   "source": [
    "###Q6 Platforms begun or completed DS"
   ]
  },
  {
   "cell_type": "code",
   "execution_count": 1738,
   "id": "be6580f3",
   "metadata": {},
   "outputs": [
    {
     "name": "stdout",
     "output_type": "stream",
     "text": [
      "Number of missing values in q6_columns: Q6_1     0\n",
      "Q6_2     0\n",
      "Q6_3     0\n",
      "Q6_4     0\n",
      "Q6_5     0\n",
      "Q6_6     0\n",
      "Q6_7     0\n",
      "Q6_8     0\n",
      "Q6_9     0\n",
      "Q6_10    0\n",
      "dtype: int64\n"
     ]
    }
   ],
   "source": [
    "# Obtain the Q6 columns\n",
    "q6_columns = salaries_encode.columns[salaries_encode.columns.str.startswith('Q6')]\n",
    "\n",
    "# Replace the Q6 columns with the encoded values\n",
    "salaries_encode[q6_columns] = salaries_encode[q6_columns].applymap(\n",
    "    lambda x: 1 if isinstance(x, str) else 0\n",
    ")\n",
    "print('Number of missing values in q6_columns:', salaries_encode[q6_columns].isnull().sum())\n"
   ]
  },
  {
   "cell_type": "markdown",
   "id": "c4b3fbbe",
   "metadata": {},
   "source": [
    "###Q7 Products or Platforms most helpful"
   ]
  },
  {
   "cell_type": "code",
   "execution_count": 1739,
   "id": "ff6d3ab4",
   "metadata": {},
   "outputs": [
    {
     "name": "stdout",
     "output_type": "stream",
     "text": [
      "Number of missing values in q7_columns: Q7_1    0\n",
      "Q7_2    0\n",
      "Q7_3    0\n",
      "Q7_4    0\n",
      "Q7_5    0\n",
      "dtype: int64\n"
     ]
    }
   ],
   "source": [
    "# Obtain the Q7 columns\n",
    "q7_columns = salaries_encode.columns[salaries_encode.columns.str.startswith('Q7')]\n",
    "\n",
    "# Replace the Q6 columns with the encoded values\n",
    "salaries_encode[q7_columns] = salaries_encode[q7_columns].applymap(\n",
    "    lambda x: 1 if isinstance(x, str) else 0\n",
    ")\n",
    "print('Number of missing values in q7_columns:', salaries_encode[q7_columns].isnull().sum())\n"
   ]
  },
  {
   "cell_type": "markdown",
   "id": "fb9a7146",
   "metadata": {},
   "source": [
    "###Q10 Rearch(Theoretical/Applied/NO)"
   ]
  },
  {
   "cell_type": "code",
   "execution_count": 1740,
   "id": "ce341960",
   "metadata": {},
   "outputs": [
    {
     "name": "stdout",
     "output_type": "stream",
     "text": [
      "Number of missing values in q10_columns: Q10_1    0\n",
      "Q10_2    0\n",
      "Q10_3    0\n",
      "dtype: int64\n"
     ]
    }
   ],
   "source": [
    "# Obtain the Q10 columns\n",
    "q10_columns = salaries_encode.columns[salaries_encode.columns.str.startswith('Q10')]\n",
    "\n",
    "# Replace the Q10 columns with the encoded values\n",
    "salaries_encode[q10_columns] = salaries_encode[q10_columns].applymap(\n",
    "    lambda x: 1 if isinstance(x, str) else 0\n",
    ")\n",
    "print('Number of missing values in q10_columns:', salaries_encode[q10_columns].isnull().sum())\n"
   ]
  },
  {
   "cell_type": "markdown",
   "id": "2090a793",
   "metadata": {},
   "source": [
    "###Q12 Language "
   ]
  },
  {
   "cell_type": "code",
   "execution_count": 1741,
   "id": "72e7cfa8",
   "metadata": {},
   "outputs": [
    {
     "name": "stdout",
     "output_type": "stream",
     "text": [
      "Number of missing values in q12_columns: Q12_1     0\n",
      "Q12_2     0\n",
      "Q12_3     0\n",
      "Q12_4     0\n",
      "Q12_5     0\n",
      "Q12_6     0\n",
      "Q12_7     0\n",
      "Q12_8     0\n",
      "Q12_9     0\n",
      "Q12_10    0\n",
      "Q12_11    0\n",
      "Q12_12    0\n",
      "Q12_13    0\n",
      "dtype: int64\n"
     ]
    }
   ],
   "source": [
    "# Obatin the Q12 columns\n",
    "q12_columns = salaries_encode.columns[salaries_encode.columns.str.startswith('Q12')]\n",
    "\n",
    "# Replace the Q12 columns with the encoded values\n",
    "salaries_encode[q12_columns] = salaries_encode[q12_columns].applymap(\n",
    "    lambda x: 1 if isinstance(x, str) else 0\n",
    ")\n",
    "print('Number of missing values in q12_columns:', salaries_encode[q12_columns].isnull().sum())\n"
   ]
  },
  {
   "cell_type": "markdown",
   "id": "b76d14d0",
   "metadata": {},
   "source": [
    "###Q13 Development Environments"
   ]
  },
  {
   "cell_type": "code",
   "execution_count": 1742,
   "id": "d9372923",
   "metadata": {},
   "outputs": [
    {
     "name": "stdout",
     "output_type": "stream",
     "text": [
      "Number of missing values in q13_columns: Q13_1     0\n",
      "Q13_2     0\n",
      "Q13_3     0\n",
      "Q13_4     0\n",
      "Q13_5     0\n",
      "Q13_6     0\n",
      "Q13_7     0\n",
      "Q13_8     0\n",
      "Q13_9     0\n",
      "Q13_10    0\n",
      "Q13_11    0\n",
      "Q13_12    0\n",
      "dtype: int64\n"
     ]
    }
   ],
   "source": [
    "# Obtain the Q13 columns\n",
    "q13_columns = salaries_encode.columns[salaries_encode.columns.str.startswith('Q13')]\n",
    "\n",
    "# Replace the Q13 columns with the encoded values\n",
    "salaries_encode[q13_columns] = salaries_encode[q13_columns].applymap(\n",
    "    lambda x: 1 if isinstance(x, str) else 0\n",
    ")\n",
    "print('Number of missing values in q13_columns:', salaries_encode[q13_columns].isnull().sum())"
   ]
  },
  {
   "cell_type": "markdown",
   "id": "b2824cbd",
   "metadata": {},
   "source": [
    "###Q14 Hosted Notebook"
   ]
  },
  {
   "cell_type": "code",
   "execution_count": 1743,
   "id": "d8211a20",
   "metadata": {},
   "outputs": [
    {
     "name": "stdout",
     "output_type": "stream",
     "text": [
      "Number of missing values in q14_columns: Q14_1     0\n",
      "Q14_2     0\n",
      "Q14_3     0\n",
      "Q14_4     0\n",
      "Q14_5     0\n",
      "Q14_6     0\n",
      "Q14_7     0\n",
      "Q14_8     0\n",
      "Q14_9     0\n",
      "Q14_10    0\n",
      "Q14_11    0\n",
      "Q14_12    0\n",
      "Q14_13    0\n",
      "Q14_14    0\n",
      "dtype: int64\n"
     ]
    }
   ],
   "source": [
    "# Obtain the Q14 columns\n",
    "q14_columns = salaries_encode.columns[salaries_encode.columns.str.startswith('Q14')]\n",
    "\n",
    "# Replace the Q14 columns with the encoded values\n",
    "salaries_encode[q14_columns] = salaries_encode[q14_columns].applymap(\n",
    "    lambda x: 1 if isinstance(x, str) else 0\n",
    ")\n",
    "print('Number of missing values in q14_columns:', salaries_encode[q14_columns].isnull().sum())"
   ]
  },
  {
   "cell_type": "markdown",
   "id": "c9f1cf28",
   "metadata": {},
   "source": [
    "###Q15 Data Visualization Libraries"
   ]
  },
  {
   "cell_type": "code",
   "execution_count": 1744,
   "id": "32c8ac1c",
   "metadata": {},
   "outputs": [
    {
     "name": "stdout",
     "output_type": "stream",
     "text": [
      "Number of missing values in q15_columns: Q15_1     0\n",
      "Q15_2     0\n",
      "Q15_3     0\n",
      "Q15_4     0\n",
      "Q15_5     0\n",
      "Q15_6     0\n",
      "Q15_7     0\n",
      "Q15_8     0\n",
      "Q15_9     0\n",
      "Q15_10    0\n",
      "Q15_11    0\n",
      "Q15_12    0\n",
      "Q15_13    0\n",
      "dtype: int64\n"
     ]
    }
   ],
   "source": [
    "# Obtain the Q15 columns\n",
    "q15_columns = salaries_encode.columns[salaries_encode.columns.str.startswith('Q15')]\n",
    "\n",
    "# Replace the Q15 columns with the encoded values\n",
    "salaries_encode[q15_columns] = salaries_encode[q15_columns].applymap(\n",
    "    lambda x: 1 if isinstance(x, str) else 0\n",
    ")\n",
    "print('Number of missing values in q15_columns:', salaries_encode[q15_columns].isnull().sum())"
   ]
  },
  {
   "cell_type": "markdown",
   "id": "bed32d2d",
   "metadata": {},
   "source": [
    "###Q17 ML Frameworks"
   ]
  },
  {
   "cell_type": "code",
   "execution_count": 1745,
   "id": "119904fc",
   "metadata": {},
   "outputs": [
    {
     "name": "stdout",
     "output_type": "stream",
     "text": [
      "Number of missing values in q17_columns: Q17_1     0\n",
      "Q17_2     0\n",
      "Q17_3     0\n",
      "Q17_4     0\n",
      "Q17_5     0\n",
      "Q17_6     0\n",
      "Q17_7     0\n",
      "Q17_8     0\n",
      "Q17_9     0\n",
      "Q17_10    0\n",
      "Q17_11    0\n",
      "Q17_12    0\n",
      "Q17_13    0\n",
      "dtype: int64\n"
     ]
    }
   ],
   "source": [
    "# Obtain the Q17 columns\n",
    "q17_columns = salaries_encode.columns[salaries_encode.columns.str.startswith('Q17')]\n",
    "\n",
    "# Replace the Q17 columns with the encoded values\n",
    "salaries_encode[q17_columns] = salaries_encode[q17_columns].applymap(\n",
    "    lambda x: 1 if isinstance(x, str) else 0\n",
    ")\n",
    "print('Number of missing values in q17_columns:', salaries_encode[q17_columns].isnull().sum())"
   ]
  },
  {
   "cell_type": "markdown",
   "id": "fb099edf",
   "metadata": {},
   "source": [
    "###Q18 ML Algorithms"
   ]
  },
  {
   "cell_type": "code",
   "execution_count": 1746,
   "id": "185eb4b1",
   "metadata": {},
   "outputs": [
    {
     "name": "stdout",
     "output_type": "stream",
     "text": [
      "Number of missing values in q18_columns: Q18_1     0\n",
      "Q18_2     0\n",
      "Q18_3     0\n",
      "Q18_4     0\n",
      "Q18_5     0\n",
      "Q18_6     0\n",
      "Q18_7     0\n",
      "Q18_8     0\n",
      "Q18_9     0\n",
      "Q18_10    0\n",
      "Q18_11    0\n",
      "Q18_12    0\n",
      "dtype: int64\n"
     ]
    }
   ],
   "source": [
    "# Obtain the Q18 columns\n",
    "q18_columns = salaries_encode.columns[salaries_encode.columns.str.startswith('Q18')]\n",
    "\n",
    "# Replace the Q18 columns with the encoded values\n",
    "salaries_encode[q18_columns] = salaries_encode[q18_columns].applymap(\n",
    "    lambda x: 1 if isinstance(x, str) else 0\n",
    ")\n",
    "print('Number of missing values in q18_columns:', salaries_encode[q18_columns].isnull().sum())"
   ]
  },
  {
   "cell_type": "markdown",
   "id": "f8d671d9",
   "metadata": {},
   "source": [
    "###Q19 Computer Vision Methods"
   ]
  },
  {
   "cell_type": "code",
   "execution_count": 1747,
   "id": "3943bd70",
   "metadata": {},
   "outputs": [
    {
     "name": "stdout",
     "output_type": "stream",
     "text": [
      "Number of missing values in q19_columns: Q19_1    0\n",
      "Q19_2    0\n",
      "Q19_3    0\n",
      "Q19_4    0\n",
      "Q19_5    0\n",
      "Q19_6    0\n",
      "dtype: int64\n"
     ]
    }
   ],
   "source": [
    "# Obtain the Q19 columns\n",
    "q19_columns = salaries_encode.columns[salaries_encode.columns.str.startswith('Q19')]\n",
    "\n",
    "# Replace the Q19 columns with the encoded values\n",
    "salaries_encode[q19_columns] = salaries_encode[q19_columns].applymap(\n",
    "    lambda x: 1 if isinstance(x, str) else 0\n",
    ")\n",
    "print('Number of missing values in q19_columns:', salaries_encode[q19_columns].isnull().sum())"
   ]
  },
  {
   "cell_type": "markdown",
   "id": "ce012827",
   "metadata": {},
   "source": [
    "###Q20 NLP Methods"
   ]
  },
  {
   "cell_type": "code",
   "execution_count": 1748,
   "id": "a5439d58",
   "metadata": {},
   "outputs": [
    {
     "name": "stdout",
     "output_type": "stream",
     "text": [
      "Number of missing values in q20_columns: Q20_1    0\n",
      "Q20_2    0\n",
      "Q20_3    0\n",
      "Q20_4    0\n",
      "dtype: int64\n"
     ]
    }
   ],
   "source": [
    "# Obtain the Q20 columns\n",
    "q20_columns = salaries_encode.columns[salaries_encode.columns.str.startswith('Q20')]\n",
    "\n",
    "# Replace the Q20 columns with the encoded values\n",
    "salaries_encode[q20_columns] = salaries_encode[q20_columns].applymap(\n",
    "    lambda x: 1 if isinstance(x, str) else 0\n",
    ")\n",
    "print('Number of missing values in q20_columns:', salaries_encode[q20_columns].isnull().sum())"
   ]
  },
  {
   "cell_type": "markdown",
   "id": "2a6e7e09",
   "metadata": {},
   "source": [
    "###Q21 Download Pre-trained Model Weights"
   ]
  },
  {
   "cell_type": "code",
   "execution_count": 1749,
   "id": "11996a3c",
   "metadata": {},
   "outputs": [
    {
     "name": "stdout",
     "output_type": "stream",
     "text": [
      "Number of missing values in q21_columns: Q21_1     0\n",
      "Q21_2     0\n",
      "Q21_3     0\n",
      "Q21_4     0\n",
      "Q21_5     0\n",
      "Q21_6     0\n",
      "Q21_7     0\n",
      "Q21_8     0\n",
      "Q21_9     0\n",
      "Q21_10    0\n",
      "dtype: int64\n"
     ]
    }
   ],
   "source": [
    "# Obtain the Q21 columns\n",
    "q21_columns = salaries_encode.columns[salaries_encode.columns.str.startswith('Q21')]\n",
    "\n",
    "# Replace the Q21 columns with the encoded values\n",
    "salaries_encode[q21_columns] = salaries_encode[q21_columns].applymap(\n",
    "    lambda x: 1 if isinstance(x, str) else 0\n",
    ")\n",
    "print('Number of missing values in q21_columns:', salaries_encode[q21_columns].isnull().sum())"
   ]
  },
  {
   "cell_type": "markdown",
   "id": "29a1e09d",
   "metadata": {},
   "source": [
    "###Q28 Important Activities"
   ]
  },
  {
   "cell_type": "code",
   "execution_count": 1750,
   "id": "dc9a419c",
   "metadata": {},
   "outputs": [
    {
     "name": "stdout",
     "output_type": "stream",
     "text": [
      "Number of missing values in q28_columns: Q28_1    0\n",
      "Q28_2    0\n",
      "Q28_3    0\n",
      "Q28_4    0\n",
      "Q28_5    0\n",
      "Q28_6    0\n",
      "dtype: int64\n"
     ]
    }
   ],
   "source": [
    "# Obtain the Q28 columns\n",
    "q28_columns = salaries_encode.columns[salaries_encode.columns.str.startswith('Q28')]\n",
    "\n",
    "# Replace the Q28 columns with the encoded values\n",
    "salaries_encode[q28_columns] = salaries_encode[q28_columns].applymap(\n",
    "    lambda x: 1 if isinstance(x, str) else 0\n",
    ")\n",
    "print('Number of missing values in q28_columns:', salaries_encode[q28_columns].isnull().sum())"
   ]
  },
  {
   "cell_type": "markdown",
   "id": "983eeb13",
   "metadata": {},
   "source": [
    "###Q31 Cloud Computing Platforms"
   ]
  },
  {
   "cell_type": "code",
   "execution_count": 1751,
   "id": "1674c14f",
   "metadata": {},
   "outputs": [
    {
     "name": "stdout",
     "output_type": "stream",
     "text": [
      "Number of missing values in q31_columns: Q31_1     0\n",
      "Q31_2     0\n",
      "Q31_3     0\n",
      "Q31_4     0\n",
      "Q31_5     0\n",
      "Q31_6     0\n",
      "Q31_7     0\n",
      "Q31_8     0\n",
      "Q31_9     0\n",
      "Q31_10    0\n",
      "dtype: int64\n"
     ]
    }
   ],
   "source": [
    "# Obtain the Q31 columns\n",
    "q31_columns = salaries_encode.columns[salaries_encode.columns.str.startswith('Q31')]\n",
    "\n",
    "# Replace the Q31 columns with the encoded values\n",
    "salaries_encode[q31_columns] = salaries_encode[q31_columns].applymap(\n",
    "    lambda x: 1 if isinstance(x, str) else 0\n",
    ")\n",
    "print('Number of missing values in q31_columns:', salaries_encode[q31_columns].isnull().sum())"
   ]
  },
  {
   "cell_type": "markdown",
   "id": "129e041a",
   "metadata": {},
   "source": [
    "###Q33 Do you use Cloud Computing Platforms"
   ]
  },
  {
   "cell_type": "code",
   "execution_count": 1752,
   "id": "7a02c00f",
   "metadata": {},
   "outputs": [
    {
     "name": "stdout",
     "output_type": "stream",
     "text": [
      "Number of missing values in q33_columns: Q33_1    0\n",
      "Q33_2    0\n",
      "Q33_3    0\n",
      "dtype: int64\n"
     ]
    }
   ],
   "source": [
    "# Obtain the Q33 columns\n",
    "q33_columns = salaries_encode.columns[salaries_encode.columns.str.startswith('Q33')]\n",
    "\n",
    "# Replace the Q33 columns with the encoded values\n",
    "salaries_encode[q33_columns] = salaries_encode[q33_columns].applymap(\n",
    "    lambda x: 1 if isinstance(x, str) else 0\n",
    ")\n",
    "print('Number of missing values in q33_columns:', salaries_encode[q33_columns].isnull().sum())"
   ]
  },
  {
   "cell_type": "markdown",
   "id": "9a9544e6",
   "metadata": {},
   "source": [
    "###Q34 Data Storage Products"
   ]
  },
  {
   "cell_type": "code",
   "execution_count": 1753,
   "id": "fb3682ff",
   "metadata": {},
   "outputs": [
    {
     "name": "stdout",
     "output_type": "stream",
     "text": [
      "Number of missing values in q34_columns: Q34_1    0\n",
      "Q34_2    0\n",
      "Q34_3    0\n",
      "Q34_4    0\n",
      "Q34_5    0\n",
      "Q34_6    0\n",
      "dtype: int64\n"
     ]
    }
   ],
   "source": [
    "# Obtain the Q34 columns\n",
    "q34_columns = salaries_encode.columns[salaries_encode.columns.str.startswith('Q34')]\n",
    "\n",
    "# Replace the Q34 columns with the encoded values\n",
    "salaries_encode[q34_columns] = salaries_encode[q34_columns].applymap(\n",
    "    lambda x: 1 if isinstance(x, str) else 0\n",
    ")\n",
    "print('Number of missing values in q34_columns:', salaries_encode[q34_columns].isnull().sum())"
   ]
  },
  {
   "cell_type": "markdown",
   "id": "160577f5",
   "metadata": {},
   "source": [
    "###Q35 Data Products"
   ]
  },
  {
   "cell_type": "code",
   "execution_count": 1754,
   "id": "73189373",
   "metadata": {},
   "outputs": [
    {
     "name": "stdout",
     "output_type": "stream",
     "text": [
      "Number of missing values in q35_columns: Q35_1     0\n",
      "Q35_2     0\n",
      "Q35_3     0\n",
      "Q35_4     0\n",
      "Q35_5     0\n",
      "Q35_6     0\n",
      "Q35_7     0\n",
      "Q35_8     0\n",
      "Q35_9     0\n",
      "Q35_10    0\n",
      "Q35_11    0\n",
      "Q35_12    0\n",
      "Q35_13    0\n",
      "Q35_14    0\n",
      "dtype: int64\n"
     ]
    }
   ],
   "source": [
    "# Obtain the Q35 columns\n",
    "q35_columns = salaries_encode.columns[salaries_encode.columns.str.startswith('Q35')]\n",
    "\n",
    "# Replace the Q35 columns with the encoded values\n",
    "salaries_encode[q35_columns] = salaries_encode[q35_columns].applymap(\n",
    "    lambda x: 1 if isinstance(x, str) else 0\n",
    ")\n",
    "print('Number of missing values in q35_columns:', salaries_encode[q35_columns].isnull().sum())"
   ]
  },
  {
   "cell_type": "markdown",
   "id": "1dcf639c",
   "metadata": {},
   "source": [
    "###Q36 BI Tools"
   ]
  },
  {
   "cell_type": "code",
   "execution_count": 1755,
   "id": "bdface40",
   "metadata": {},
   "outputs": [
    {
     "name": "stdout",
     "output_type": "stream",
     "text": [
      "Number of missing values in q36_columns: Q36_1     0\n",
      "Q36_2     0\n",
      "Q36_3     0\n",
      "Q36_4     0\n",
      "Q36_5     0\n",
      "Q36_6     0\n",
      "Q36_7     0\n",
      "Q36_8     0\n",
      "Q36_9     0\n",
      "Q36_10    0\n",
      "Q36_11    0\n",
      "Q36_12    0\n",
      "Q36_13    0\n",
      "dtype: int64\n"
     ]
    }
   ],
   "source": [
    "# Obtain the Q36 columns\n",
    "q36_columns = salaries_encode.columns[salaries_encode.columns.str.startswith('Q36')]\n",
    "\n",
    "# Replace the Q36 columns with the encoded values\n",
    "salaries_encode[q36_columns] = salaries_encode[q36_columns].applymap(\n",
    "    lambda x: 1 if isinstance(x, str) else 0\n",
    ")\n",
    "print('Number of missing values in q36_columns:', salaries_encode[q36_columns].isnull().sum())"
   ]
  },
  {
   "cell_type": "markdown",
   "id": "36c27f8c",
   "metadata": {},
   "source": [
    "###Q37 Managed ML Products"
   ]
  },
  {
   "cell_type": "code",
   "execution_count": 1756,
   "id": "cc38734a",
   "metadata": {},
   "outputs": [
    {
     "name": "stdout",
     "output_type": "stream",
     "text": [
      "Number of missing values in q37_columns: Q37_1     0\n",
      "Q37_2     0\n",
      "Q37_3     0\n",
      "Q37_4     0\n",
      "Q37_5     0\n",
      "Q37_6     0\n",
      "Q37_7     0\n",
      "Q37_8     0\n",
      "Q37_9     0\n",
      "Q37_10    0\n",
      "Q37_11    0\n",
      "dtype: int64\n"
     ]
    }
   ],
   "source": [
    "# Obtain the Q37 columns\n",
    "q37_columns = salaries_encode.columns[salaries_encode.columns.str.startswith('Q37')]\n",
    "\n",
    "# Replace the Q37 columns with the encoded values\n",
    "salaries_encode[q37_columns] = salaries_encode[q37_columns].applymap(\n",
    "    lambda x: 1 if isinstance(x, str) else 0\n",
    ")\n",
    "print('Number of missing values in q37_columns:', salaries_encode[q37_columns].isnull().sum())"
   ]
  },
  {
   "cell_type": "markdown",
   "id": "b536c33e",
   "metadata": {},
   "source": [
    "###Q38 Automated ML Tools"
   ]
  },
  {
   "cell_type": "code",
   "execution_count": 1757,
   "id": "4779fc93",
   "metadata": {},
   "outputs": [
    {
     "name": "stdout",
     "output_type": "stream",
     "text": [
      "Number of missing values in q38_columns: Q38_1    0\n",
      "Q38_2    0\n",
      "Q38_3    0\n",
      "Q38_4    0\n",
      "Q38_5    0\n",
      "Q38_6    0\n",
      "dtype: int64\n"
     ]
    }
   ],
   "source": [
    "# Obtain the Q38 columns\n",
    "q38_columns = salaries_encode.columns[salaries_encode.columns.str.startswith('Q38')]\n",
    "\n",
    "# Replace the Q38 columns with the encoded values\n",
    "salaries_encode[q38_columns] = salaries_encode[q38_columns].applymap(\n",
    "    lambda x: 1 if isinstance(x, str) else 0\n",
    ")\n",
    "print('Number of missing values in q38_columns:', salaries_encode[q38_columns].isnull().sum())"
   ]
  },
  {
   "cell_type": "markdown",
   "id": "7c0c04c5",
   "metadata": {},
   "source": [
    "###Q39 Products To Serve Your ML Models"
   ]
  },
  {
   "cell_type": "code",
   "execution_count": 1758,
   "id": "f6c02ec7",
   "metadata": {},
   "outputs": [
    {
     "name": "stdout",
     "output_type": "stream",
     "text": [
      "Number of missing values in q39_columns: Q39_1     0\n",
      "Q39_2     0\n",
      "Q39_3     0\n",
      "Q39_4     0\n",
      "Q39_5     0\n",
      "Q39_6     0\n",
      "Q39_7     0\n",
      "Q39_8     0\n",
      "Q39_9     0\n",
      "Q39_10    0\n",
      "dtype: int64\n"
     ]
    }
   ],
   "source": [
    "# Obtain the Q39 columns\n",
    "q39_columns = salaries_encode.columns[salaries_encode.columns.str.startswith('Q39')]\n",
    "\n",
    "# Replace the Q39 columns with the encoded values\n",
    "salaries_encode[q39_columns] = salaries_encode[q39_columns].applymap(\n",
    "    lambda x: 1 if isinstance(x, str) else 0\n",
    ")\n",
    "print('Number of missing values in q39_columns:', salaries_encode[q39_columns].isnull().sum())  "
   ]
  },
  {
   "cell_type": "markdown",
   "id": "65688360",
   "metadata": {},
   "source": [
    "###Q40 Monitor ML Models"
   ]
  },
  {
   "cell_type": "code",
   "execution_count": 1759,
   "id": "6673d8fa",
   "metadata": {},
   "outputs": [
    {
     "name": "stdout",
     "output_type": "stream",
     "text": [
      "Number of missing values in q40_columns: Q40_1     0\n",
      "Q40_2     0\n",
      "Q40_3     0\n",
      "Q40_4     0\n",
      "Q40_5     0\n",
      "Q40_6     0\n",
      "Q40_7     0\n",
      "Q40_8     0\n",
      "Q40_9     0\n",
      "Q40_10    0\n",
      "Q40_11    0\n",
      "Q40_12    0\n",
      "Q40_13    0\n",
      "dtype: int64\n"
     ]
    }
   ],
   "source": [
    "# Obtain the Q40 columns\n",
    "q40_columns = salaries_encode.columns[salaries_encode.columns.str.startswith('Q40')]\n",
    "\n",
    "# Replace the Q40 columns with the encoded values\n",
    "salaries_encode[q40_columns] = salaries_encode[q40_columns].applymap(\n",
    "    lambda x: 1 if isinstance(x, str) else 0\n",
    ")\n",
    "print('Number of missing values in q40_columns:', salaries_encode[q40_columns].isnull().sum())"
   ]
  },
  {
   "cell_type": "markdown",
   "id": "50284824",
   "metadata": {},
   "source": [
    "###Q41 Ethical AI"
   ]
  },
  {
   "cell_type": "code",
   "execution_count": 1760,
   "id": "11305eb2",
   "metadata": {},
   "outputs": [
    {
     "name": "stdout",
     "output_type": "stream",
     "text": [
      "Number of missing values in q41_columns: Q41_1    0\n",
      "Q41_2    0\n",
      "Q41_3    0\n",
      "Q41_4    0\n",
      "Q41_5    0\n",
      "Q41_6    0\n",
      "Q41_7    0\n",
      "dtype: int64\n"
     ]
    }
   ],
   "source": [
    "# Obtain the Q41 columns\n",
    "q41_columns = salaries_encode.columns[salaries_encode.columns.str.startswith('Q41')]\n",
    "\n",
    "# Replace the Q41 columns with the encoded values\n",
    "salaries_encode[q41_columns] = salaries_encode[q41_columns].applymap(\n",
    "    lambda x: 1 if isinstance(x, str) else 0\n",
    ")\n",
    "print('Number of missing values in q41_columns:', salaries_encode[q41_columns].isnull().sum())"
   ]
  },
  {
   "cell_type": "markdown",
   "id": "3165b458",
   "metadata": {},
   "source": [
    "###Q42 Hardware"
   ]
  },
  {
   "cell_type": "code",
   "execution_count": 1761,
   "id": "82576374",
   "metadata": {},
   "outputs": [
    {
     "name": "stdout",
     "output_type": "stream",
     "text": [
      "Number of missing values in q42_columns: Q42_1    0\n",
      "Q42_2    0\n",
      "Q42_3    0\n",
      "Q42_4    0\n",
      "Q42_5    0\n",
      "Q42_6    0\n",
      "Q42_7    0\n",
      "dtype: int64\n"
     ]
    }
   ],
   "source": [
    "# Obtain the Q42 columns\n",
    "q42_columns = salaries_encode.columns[salaries_encode.columns.str.startswith('Q42')]\n",
    "\n",
    "# Replace the Q42 columns with the encoded values\n",
    "salaries_encode[q42_columns] = salaries_encode[q42_columns].applymap(\n",
    "    lambda x: 1 if isinstance(x, str) else 0\n",
    ")\n",
    "print('Number of missing values in q42_columns:', salaries_encode[q42_columns].isnull().sum())"
   ]
  },
  {
   "cell_type": "markdown",
   "id": "92a9ace7",
   "metadata": {},
   "source": [
    "###Q44 Media Sources"
   ]
  },
  {
   "cell_type": "code",
   "execution_count": 1762,
   "id": "ad3c499f",
   "metadata": {},
   "outputs": [
    {
     "name": "stdout",
     "output_type": "stream",
     "text": [
      "Number of missing values in q44_columns: Q44_1     0\n",
      "Q44_2     0\n",
      "Q44_3     0\n",
      "Q44_4     0\n",
      "Q44_5     0\n",
      "Q44_6     0\n",
      "Q44_7     0\n",
      "Q44_8     0\n",
      "Q44_9     0\n",
      "Q44_10    0\n",
      "dtype: int64\n"
     ]
    }
   ],
   "source": [
    "# Obtain the Q44 columns\n",
    "q44_columns = salaries_encode.columns[salaries_encode.columns.str.startswith('Q44')]\n",
    "\n",
    "# Replace the Q44 columns with the encoded values\n",
    "salaries_encode[q44_columns] = salaries_encode[q44_columns].applymap(\n",
    "    lambda x: 1 if isinstance(x, str) else 0\n",
    ")\n",
    "print('Number of missing values in q44_columns:', salaries_encode[q44_columns].isnull().sum())"
   ]
  },
  {
   "cell_type": "markdown",
   "id": "6f50ddc0",
   "metadata": {},
   "source": [
    "###Output CSV And check"
   ]
  },
  {
   "cell_type": "code",
   "execution_count": 1763,
   "id": "3f62890d",
   "metadata": {},
   "outputs": [],
   "source": [
    "# Output the cleaned data to a new CSV file\n",
    "# salaries_encode.to_csv(\"check4.csv\", index=False)"
   ]
  },
  {
   "cell_type": "markdown",
   "id": "df3dba2f",
   "metadata": {},
   "source": [
    "###Drop Columns, And Replace Missing"
   ]
  },
  {
   "cell_type": "code",
   "execution_count": 1764,
   "id": "18864b6c",
   "metadata": {},
   "outputs": [
    {
     "name": "stdout",
     "output_type": "stream",
     "text": [
      "There are no missing values remaining.\n",
      "Shape of the data: (6257, 276)\n"
     ]
    }
   ],
   "source": [
    "# Step 1: Drop the unencoded target column\n",
    "columns_to_drop = ['Q29']\n",
    "salaries_encode = salaries_encode.drop(columns=columns_to_drop, errors='ignore')\n",
    "\n",
    "# Step 2: Impute missing values for columns with mode\n",
    "for col in salaries_encode.columns:\n",
    "    if salaries_encode[col].isnull().sum() > 0:\n",
    "        mode_value = salaries_encode[col].mode()[0]\n",
    "        salaries_encode[col].fillna(mode_value, inplace=True)\n",
    "\n",
    "# Step 3: Verify that there are no remaining missing values\n",
    "missing_values = salaries_encode.isnull().sum()\n",
    "if missing_values.sum() > 0:\n",
    "    print(missing_values)\n",
    "else: \n",
    "    print(\"There are no missing values remaining.\")\n",
    "    \n",
    "# Step 4: Display the column names and shape of the data\n",
    "print(\"Shape of the data:\", salaries_encode.shape)\n"
   ]
  },
  {
   "cell_type": "markdown",
   "id": "71PPXsVpEdby",
   "metadata": {
    "id": "71PPXsVpEdby"
   },
   "source": [
    "###**Drop the target variable(s) and get the target variable**"
   ]
  },
  {
   "cell_type": "code",
   "execution_count": 1765,
   "id": "J8Xdq2I0aIOK",
   "metadata": {
    "id": "J8Xdq2I0aIOK"
   },
   "outputs": [],
   "source": [
    "# Make sure there are no missing values remaining in the dataset\n",
    "assert salaries_encode.isnull().values.sum() == 0, \\\n",
    "    \"There are still {} missing values remaining in salaries!\".format(\n",
    "        salaries_encode.isnull().values.sum()\n",
    "    )"
   ]
  },
  {
   "cell_type": "code",
   "execution_count": 1766,
   "id": "01UFnhWGE67u",
   "metadata": {
    "id": "01UFnhWGE67u"
   },
   "outputs": [],
   "source": [
    "# Set the target variable\n",
    "target = salaries_encode['Q29_Encoded']\n",
    "\n",
    "#TODO: Drop the target variables from the feature set\n",
    "columns_to_drop = ['Q29_buckets', 'Q29_Encoded']\n",
    "X = salaries_encode.drop(columns=columns_to_drop)\n",
    "\n",
    "# Make sure the target variables are not included in the feature set\n",
    "for col in X.columns:\n",
    "    assert 'Q29' not in col, \\\n",
    "        \"Target variable ({}) is still in the dataset\".format(col)"
   ]
  },
  {
   "cell_type": "markdown",
   "id": "c1uNYg4xGhta",
   "metadata": {
    "id": "c1uNYg4xGhta"
   },
   "source": [
    "# Question 2: Exploratory Feature Analysis\n",
    "\n",
    "- From Question 2 - Question 4, you should **NOT** peek at the test labels in any form!\n",
    "- Assume that you do not know the target values (Q29_Encoded)"
   ]
  },
  {
   "cell_type": "markdown",
   "id": "yCkFKoni0CPH",
   "metadata": {
    "id": "yCkFKoni0CPH"
   },
   "source": [
    "## Split data into training and test sets"
   ]
  },
  {
   "cell_type": "code",
   "execution_count": 1767,
   "id": "JZhQ_IffzAD_",
   "metadata": {
    "id": "JZhQ_IffzAD_"
   },
   "outputs": [],
   "source": [
    "# You can use from sklearn.model_selection.train_test_split()\n",
    "X_train, X_test, y_train, y_test = train_test_split(X, target, test_size=0.3, random_state=1624)"
   ]
  },
  {
   "cell_type": "markdown",
   "id": "bb470896",
   "metadata": {},
   "source": [
    "## **Feature Importance**\n"
   ]
  },
  {
   "cell_type": "code",
   "execution_count": 1768,
   "id": "7a6900e8",
   "metadata": {},
   "outputs": [
    {
     "data": {
      "image/png": "[encoded data removed]",
      "text/plain": [
       "<Figure size 2000x800 with 1 Axes>"
      ]
     },
     "metadata": {},
     "output_type": "display_data"
    }
   ],
   "source": [
    "# Create a copy of the encoded salaries DataFrame\n",
    "salaries = salaries_encode.copy()\n",
    "\n",
    "# Drop Q29_buckets and new_feature1 columns which not belong to the original dataset\n",
    "salaries.drop(columns=['Q29_buckets', 'new_feature1'], inplace=True)\n",
    "\n",
    "# Compute the correlation matrix\n",
    "df_corr = salaries.corr()\n",
    "\n",
    "# Get the absolute correlations with the target variable 'Q29_Encoded' and sort them in descending order\n",
    "# Exclude the target variable itself from the list\n",
    "corr_with_target = df_corr['Q29_Encoded'].drop('Q29_Encoded').abs().sort_values(ascending=False)\n",
    "\n",
    "# Select the top 15 features most correlated with the target variable\n",
    "top15_corr = corr_with_target.head(15)\n",
    "\n",
    "# Create a DataFrame for plotting\n",
    "corr_df = pd.DataFrame({\n",
    "    'Feature': top15_corr.index,\n",
    "    'Correlation': top15_corr.values\n",
    "})\n",
    "\n",
    "# Set the style for seaborn\n",
    "sns.set_style(\"whitegrid\")\n",
    "\n",
    "# Plot the top 15 correlations\n",
    "plt.figure(figsize=(20, 8))\n",
    "plt.title('Top 15 Feature Correlations with Salary', fontsize=20)\n",
    "\n",
    "# Create the bar plot\n",
    "corrplot = sns.barplot(\n",
    "    x='Feature',\n",
    "    y='Correlation',\n",
    "    data=corr_df,\n",
    "    palette='viridis'\n",
    ")\n",
    "\n",
    "# Rotate x-axis labels for better readability\n",
    "corrplot.set_xticklabels(\n",
    "    corrplot.get_xticklabels(),\n",
    "    rotation=70,\n",
    "    horizontalalignment='right',\n",
    "    fontsize=12\n",
    ")\n",
    "\n",
    "# Set labels for axes\n",
    "plt.xlabel('Features', fontsize=16)\n",
    "plt.ylabel('Absolute Correlation Coefficient', fontsize=16)\n",
    "\n",
    "# Adjust layout to prevent clipping of tick-labels\n",
    "plt.tight_layout()\n",
    "\n",
    "# Display the plot\n",
    "plt.show()"
   ]
  },
  {
   "cell_type": "markdown",
   "id": "L31jOKn0OVbH",
   "metadata": {
    "id": "L31jOKn0OVbH"
   },
   "source": [
    "## **Feature Engineering/Generation**\n",
    "\n",
    "- Create new feature(s) using existing features!"
   ]
  },
  {
   "cell_type": "markdown",
   "id": "6702b19e",
   "metadata": {},
   "source": [
    "- (1) identifying if respondents are from the top 10 most economics powerful countries, emphasizing geographical impact; (2) the ratio of coding years to age, indicating early coding exposure; (3) the ratio of ML experience to coding experience, showing ML specialization; (4) total languages used sum of Q12 features, representing versatility in programming skills; (5) total data products worked on sum of Q34 & Q35 features, reflecting practical experience; and (6) data science team size relative to company size, showing the focus on data science within the company. "
   ]
  },
  {
   "cell_type": "code",
   "execution_count": 1769,
   "id": "vwMQ55kQPuPX",
   "metadata": {
    "id": "vwMQ55kQPuPX"
   },
   "outputs": [],
   "source": [
    "#TODO: Create new features (feature generation)\n",
    "# 1 - Top 10 Powerful countries\n",
    "X_train['new_feature1'] = X_train['new_feature1']\n",
    "\n",
    "# 2 - Years of coding / age ratio\n",
    "X_train['new_feature2'] = X_train['Years_coding'] / X_train['Age']\n",
    "\n",
    "# 3 - Years of ML experience / Years of coding ratio\n",
    "X_train['new_feature3'] = X_train['Years_ML'] / X_train['Years_coding']\n",
    "\n",
    "# 4- Total languages Used Q12\n",
    "q12_columns = X_train.columns[X_train.columns.str.startswith('Q12')]\n",
    "X_train['new_feature4'] = X_train[q12_columns].sum(axis=1)\n",
    "714\n",
    "# 5 - Total Data products Q34 & Q35\n",
    "q34_columns = X_train.columns[X_train.columns.str.startswith('Q34')]\n",
    "q35_columns = X_train.columns[X_train.columns.str.startswith('Q35')]\n",
    "X_train['new_feature5'] = X_train[q34_columns].sum(axis=1) + X_train[q35_columns].sum(axis=1)\n",
    "\n",
    "# 6 - Company Data Science Ratio Q26/Q25 * 100\n",
    "X_train['new_feature6'] = (X_train['Team_Size'] / X_train['Company_Size']) * 100"
   ]
  },
  {
   "cell_type": "markdown",
   "id": "fC6DORiwL5b_",
   "metadata": {
    "id": "fC6DORiwL5b_"
   },
   "source": [
    "## **Feature Selection**\n",
    "\n",
    "- Select the features based on the criteria of your choice"
   ]
  },
  {
   "cell_type": "code",
   "execution_count": 1770,
   "id": "vj2WL5kUbeHJ",
   "metadata": {
    "id": "vj2WL5kUbeHJ"
   },
   "outputs": [
    {
     "data": {
      "image/png": "[encoded data removed]",
      "text/plain": [
       "<Figure size 1000x800 with 1 Axes>"
      ]
     },
     "metadata": {},
     "output_type": "display_data"
    }
   ],
   "source": [
    "# Initialize the model\n",
    "rf = RandomForestClassifier(n_estimators=1000, random_state=1624, n_jobs=-1)\n",
    "\n",
    "# Fit the model\n",
    "rf.fit(X_train, y_train)\n",
    "\n",
    "# Get feature importances\n",
    "importances = rf.feature_importances_\n",
    "\n",
    "# Create a DataFrame for visualization\n",
    "feature_importances = pd.DataFrame({'Feature': X_train.columns,'Importance': importances})\n",
    "\n",
    "# Sort features by importance\n",
    "feature_importances.sort_values(by='Importance', ascending=False, inplace=True)\n",
    "\n",
    "# Visualize the top 15 features\n",
    "plt.figure(figsize=(10, 8))\n",
    "sns.barplot(x='Importance',y='Feature',data=feature_importances.head(15))\n",
    "plt.title('Top 15 Feature Importances')\n",
    "plt.show()"
   ]
  },
  {
   "cell_type": "code",
   "execution_count": 1771,
   "id": "lw92jYTKItv6",
   "metadata": {
    "id": "lw92jYTKItv6"
   },
   "outputs": [
    {
     "name": "stdout",
     "output_type": "stream",
     "text": [
      "['Country', 'Age', 'new_feature1', 'Years_coding', 'new_feature2', 'new_feature3', 'Years_ML', 'new_feature6', 'Team_Size', 'Company_Size', 'Money_Spent_ML', 'new_feature4', 'new_feature5', 'Education', 'Q27_We_have_well_established_ML_methods_(i.e.,_models_in_production_for_more_than_2_years)']\n"
     ]
    }
   ],
   "source": [
    "# Select the top 15 features\n",
    "train_df_selected = feature_importances['Feature'].head(15).tolist()\n",
    "print(train_df_selected)\n",
    "\n",
    "# Update the training sets\n",
    "X_train_selected = X_train[train_df_selected]"
   ]
  },
  {
   "cell_type": "markdown",
   "id": "209c7880",
   "metadata": {},
   "source": [
    "## **Apply the same feature engineering/selection to test data**"
   ]
  },
  {
   "cell_type": "code",
   "execution_count": 1772,
   "id": "fa648c10",
   "metadata": {},
   "outputs": [],
   "source": [
    "#TODO: Feature generation code you applied to the training data\n",
    "# 1 - Top 10 Powerful countries\n",
    "X_test['new_feature1'] = X_test['new_feature1']\n",
    "\n",
    "# 2 - Years of coding / age ratio\n",
    "X_test['new_feature2'] = X_test['Years_coding'] / X_test['Age']\n",
    "\n",
    "# 3 - Years of ML experience / Years of coding ratio\n",
    "X_test['new_feature3'] = X_test['Years_ML'] / X_test['Years_coding']\n",
    "\n",
    "# 3- Total languages Used Q12\n",
    "q12_columns = X_test.columns[X_test.columns.str.startswith('Q12')]\n",
    "X_test['new_feature4'] = X_test[q12_columns].sum(axis=1)\n",
    "\n",
    "# 4 - Total Data products Q34 & Q35\n",
    "q34_columns = X_test.columns[X_test.columns.str.startswith('Q34')]\n",
    "q35_columns = X_test.columns[X_test.columns.str.startswith('Q35')]\n",
    "X_test['new_feature5'] = X_test[q34_columns].sum(axis=1) + X_test[q35_columns].sum(axis=1)\n",
    "\n",
    "# 5 - Company Data Science Ratio Q26/Q25 * 100\n",
    "X_test['new_feature6'] = (X_test['Team_Size'] / X_test['Company_Size']) * 100"
   ]
  },
  {
   "cell_type": "code",
   "execution_count": 1773,
   "id": "406d3fdd",
   "metadata": {},
   "outputs": [
    {
     "data": {
      "image/png": "[encoded data removed]",
      "text/plain": [
       "<Figure size 1000x800 with 1 Axes>"
      ]
     },
     "metadata": {},
     "output_type": "display_data"
    }
   ],
   "source": [
    "# Initialize the model\n",
    "rf = RandomForestClassifier(n_estimators=1000, random_state=1624, n_jobs=-1)\n",
    "\n",
    "# Fit the model\n",
    "rf.fit(X_test, y_test)\n",
    "\n",
    "# Get feature importances\n",
    "importances = rf.feature_importances_\n",
    "\n",
    "# Create a DataFrame for visualization\n",
    "feature_importances = pd.DataFrame({'Feature': X_test.columns,'Importance': importances})\n",
    "\n",
    "# Sort features by importance\n",
    "feature_importances.sort_values(by='Importance', ascending=False, inplace=True)\n",
    "\n",
    "# Visualize the top 15 features\n",
    "plt.figure(figsize=(10, 8))\n",
    "sns.barplot(x='Importance',y='Feature',data=feature_importances.head(15))\n",
    "plt.title('Top 15 Feature Importances')\n",
    "plt.show()"
   ]
  },
  {
   "cell_type": "code",
   "execution_count": 1774,
   "id": "73813e2b",
   "metadata": {},
   "outputs": [
    {
     "name": "stdout",
     "output_type": "stream",
     "text": [
      "['Country', 'Age', 'Years_coding', 'new_feature1', 'new_feature2', 'new_feature3', 'Years_ML', 'new_feature6', 'Team_Size', 'Money_Spent_ML', 'Company_Size', 'new_feature4', 'new_feature5', 'Education', 'Q27_We_have_well_established_ML_methods_(i.e.,_models_in_production_for_more_than_2_years)']\n"
     ]
    }
   ],
   "source": [
    "# Leave selected features\n",
    "test_df_selected = feature_importances['Feature'].head(15).tolist()\n",
    "print(test_df_selected)\n",
    "\n",
    "# Update the testing sets\n",
    "X_test_selected = X_test[test_df_selected]"
   ]
  },
  {
   "cell_type": "code",
   "execution_count": 1775,
   "id": "637c7a63",
   "metadata": {},
   "outputs": [],
   "source": [
    "X_train = X_train_selected.values\n",
    "X_test = X_test_selected.values\n",
    "y_train = y_train.values\n",
    "y_test = y_test.values"
   ]
  },
  {
   "cell_type": "markdown",
   "id": "ZiT8l3PX9m5F",
   "metadata": {
    "id": "ZiT8l3PX9m5F"
   },
   "source": [
    "# Question 3: Model Implementation"
   ]
  },
  {
   "cell_type": "markdown",
   "id": "7oBXbSYFL3Cs",
   "metadata": {
    "id": "7oBXbSYFL3Cs"
   },
   "source": [
    "## Implement Ordinal Logistic Regression Model"
   ]
  },
  {
   "cell_type": "code",
   "execution_count": 1776,
   "id": "yay4BS-j-Kzg",
   "metadata": {
    "id": "yay4BS-j-Kzg"
   },
   "outputs": [],
   "source": [
    "from sklearn.linear_model import LogisticRegression\n",
    "\n",
    "class OrdinalLogisticRegression():\n",
    "    # TODO: Add ordinal logreg hyperparameters as args to __init__\n",
    "    # A dummy hyperparameter is put as a placeholder for now\n",
    "    def __init__(self, max_iter=100, C=0):\n",
    "        self.hyperparameter = C #TODO\n",
    "        self.max_iter = max_iter\n",
    "\n",
    "        self.classes_ = []\n",
    "        self.models_ = []\n",
    "\n",
    "    def fit(self, X, y):\n",
    "        self.classes_ = sorted(np.unique(y))\n",
    "        self.models_ = []\n",
    "\n",
    "        # Train k-1 binary logistic regression models\n",
    "        for i, c in enumerate(self.classes_[:-1]): # We need only k-1 classifiers\n",
    "            y_i = (y > c).astype(int)\n",
    "            model = LogisticRegression(max_iter=self.max_iter)\n",
    "            model.fit(X, y_i)\n",
    "            self.models_.append(model)\n",
    "\n",
    "        return self\n",
    "\n",
    "    def predict_proba(self, X):\n",
    "        assert len(self.models_) > 0, \"Model is not fitted yet. Run .fit() first.\"\n",
    "\n",
    "        # Predicted probabilities for k-1 binary logistic regression models (initialize placeholders)\n",
    "        binary_probabilities = np.empty((X.shape[0], len(self.models_), 2), dtype=float)\n",
    "\n",
    "        # Make predictions of k-1 binary logistic regression models\n",
    "        for i, model in enumerate(self.models_):\n",
    "            binary_probabilities[:, i] = model.predict_proba(X)\n",
    "\n",
    "        # Compute the probabilities to be in each class\n",
    "        k = len(self.classes_)\n",
    "        proba = np.empty((X.shape[0], k), dtype=float) # predicted probabilities for all the data in X (shape=(X.shape[0], k))\n",
    "\n",
    "        proba[:, 0] = binary_probabilities[:, 0, 0] # 0th probability\n",
    "\n",
    "        for i in range(1, k-1):\n",
    "            # ith probability \n",
    "            # (prob of belonging to class 0 for the ith model - prob of belonging to class 0 for the (i-1)th model\n",
    "            proba[:, i] = binary_probabilities[:, i, 0] - binary_probabilities[:, i-1, 0]\n",
    "\n",
    "        proba[:, -1] = binary_probabilities[:, k-2, 1] # (k-1)th probability\n",
    "\n",
    "        assert (proba.sum(axis=1) == 1).all(), \\\n",
    "            'There is a problem in the probability computation'\n",
    "        return proba\n",
    "\n",
    "    def predict(self, X):\n",
    "        proba = self.predict_proba(X)\n",
    "        return np.argmax(proba, axis = 1)\n",
    "\n",
    "    # Add hyperparameters here whenever you add new ones\n",
    "    # max_iter is added as an example here. key is the hyperparameter name, \n",
    "    # and value is the attribute name you defined in this class\n",
    "    def get_params(self, deep=True):\n",
    "        return {'max_iter': self.max_iter}\n",
    "\n",
    "    # DO NOT CHANGE\n",
    "    def set_params(self, **parameters):\n",
    "        # Set estimator parameters\n",
    "        for parameter, value in parameters.items():\n",
    "            setattr(self, parameter, value)\n",
    "        return self"
   ]
  },
  {
   "cell_type": "markdown",
   "id": "rfTNn0Z6LuZK",
   "metadata": {
    "id": "rfTNn0Z6LuZK"
   },
   "source": [
    "## Run k-fold cross validation\n",
    "\n",
    "- Report the average/variance of accuracies across folds"
   ]
  },
  {
   "cell_type": "code",
   "execution_count": 1777,
   "id": "EMlrveWFH7kx",
   "metadata": {
    "id": "EMlrveWFH7kx"
   },
   "outputs": [
    {
     "name": "stdout",
     "output_type": "stream",
     "text": [
      "Accuracy for fold 1: 0.3493150684931507\n",
      "Accuracy for fold 2: 0.3926940639269406\n",
      "Accuracy for fold 3: 0.3310502283105023\n",
      "Accuracy for fold 4: 0.3812785388127854\n",
      "Accuracy for fold 5: 0.3333333333333333\n",
      "Accuracy for fold 6: 0.3698630136986301\n",
      "Accuracy for fold 7: 0.3264840182648402\n",
      "Accuracy for fold 8: 0.3470319634703196\n",
      "Accuracy for fold 9: 0.3515981735159817\n",
      "Accuracy for fold 10: 0.3340961098398169\n",
      "Average accuracy    :  0.3516744511666301\n",
      "Variance of accuracy:  0.0004622270805613476\n"
     ]
    }
   ],
   "source": [
    "# Initialize k-fold cross-validation\n",
    "k = 10  \n",
    "kf = KFold(n_splits=k, shuffle=True, random_state=1624)\n",
    "\n",
    "# Initialize a list to store accuracies\n",
    "accuracies = []\n",
    "\n",
    "# Perform k-fold cross-validation\n",
    "for fold, (train_index, val_index) in enumerate(kf.split(X_train), 1):\n",
    "    # Use .iloc for positional indexing\n",
    "    X_tr, X_val = X_train[train_index], X_train[val_index]\n",
    "    y_tr, y_val = y_train[train_index], y_train[val_index]\n",
    "    \n",
    "    # Initialize the model\n",
    "    model = OrdinalLogisticRegression(max_iter=100, C=1.0)\n",
    "    \n",
    "    # Fit the model\n",
    "    model.fit(X_tr, y_tr)\n",
    "    \n",
    "    # Predict on validation set\n",
    "    y_pred = model.predict(X_val)\n",
    "    \n",
    "    # Compute accuracy\n",
    "    acc = accuracy_score(y_val, y_pred)\n",
    "    accuracies.append(acc)\n",
    "    \n",
    "    # Print accuracy for this fold\n",
    "    print(f'Accuracy for fold {fold}: {acc}')\n",
    "\n",
    "# After the loop, print out all accuracies and the average\n",
    "mean_accuracy = np.mean(accuracies)\n",
    "variance_accuracy = np.var(accuracies)\n",
    "print(\"Average accuracy    : \", mean_accuracy)\n",
    "print(\"Variance of accuracy: \", variance_accuracy)"
   ]
  },
  {
   "cell_type": "markdown",
   "id": "sxu0cqPWMEIZ",
   "metadata": {
    "id": "sxu0cqPWMEIZ"
   },
   "source": [
    "## Bias-variance trade-off\n",
    "\n",
    "[bias_variance_decomp.py](https://github.com/rasbt/mlxtend/blob/master/mlxtend/evaluate/bias_variance_decomp.py)\n",
    "\n",
    "Below is a function you can use to compute the bias and variance of your ordinal logistic regression model. Using this function, analyze the ordinal logistic regression model performance based on bias-variance trade-off."
   ]
  },
  {
   "cell_type": "code",
   "execution_count": 1778,
   "id": "kTas4z9mLpjI",
   "metadata": {
    "id": "kTas4z9mLpjI"
   },
   "outputs": [],
   "source": [
    "### NOTE: You don't need to change anything in this code block! ###\n",
    "\n",
    "def _draw_bootstrap_sample(rng, X, y):\n",
    "    sample_indices = np.arange(X.shape[0])\n",
    "    bootstrap_indices = rng.choice(\n",
    "        sample_indices, size=sample_indices.shape[0], replace=True\n",
    "    )\n",
    "    return X[bootstrap_indices], y[bootstrap_indices]\n",
    "\n",
    "def bias_variance_decomp(\n",
    "    estimator,\n",
    "    X_train,\n",
    "    y_train,\n",
    "    X_test,\n",
    "    y_test,\n",
    "    num_rounds=10,\n",
    "    random_seed=0\n",
    "):\n",
    "    \"\"\"\n",
    "    estimator : object\n",
    "        A classifier or regressor object or class implementing both a\n",
    "        `fit` and `predict` method similar to the scikit-learn API.\n",
    "\n",
    "    X_train : array-like, shape=(num_examples, num_features)\n",
    "        A training dataset for drawing the bootstrap samples to carry\n",
    "        out the bias-variance decomposition.\n",
    "\n",
    "    y_train : array-like, shape=(num_examples)\n",
    "        Targets (class labels, continuous values in case of regression)\n",
    "        associated with the `X_train` examples.\n",
    "\n",
    "    X_test : array-like, shape=(num_examples, num_features)\n",
    "        The test dataset for computing the average loss, bias,\n",
    "        and variance.\n",
    "\n",
    "    y_test : array-like, shape=(num_examples)\n",
    "        Targets (class labels, continuous values in case of regression)\n",
    "        associated with the `X_test` examples.\n",
    "\n",
    "    num_rounds : int (default=10)\n",
    "        Number of bootstrap rounds (sampling from the training set)\n",
    "        for performing the bias-variance decomposition. Each bootstrap\n",
    "        sample has the same size as the original training set.\n",
    "\n",
    "    random_seed : int (default=0)\n",
    "        Random seed for the bootstrap sampling used for the\n",
    "        bias-variance decomposition.\n",
    "\n",
    "    Returns\n",
    "    ----------\n",
    "    avg_bias, avg_var : returns the average bias, and average bias (all floats),\n",
    "                        where the average is computed over the data points\n",
    "                        in the test set.\n",
    "\n",
    "    \"\"\"\n",
    "    loss = \"mse\"\n",
    "\n",
    "    for ary in (X_train, y_train, X_test, y_test):\n",
    "        assert type(ary) == np.ndarray, \\\n",
    "            \"X_train, y_train, X_test, y_test have to be NumPy array. \\\n",
    "            If e.g., X_train is a pandas DataFrame, convert it to NumPy array \\\n",
    "            via X_train=X_train.values.\"\n",
    "\n",
    "    rng = np.random.RandomState(random_seed)\n",
    "\n",
    "    # All the predictions across different rounds\n",
    "    all_pred = np.zeros((num_rounds, y_test.shape[0]), dtype=np.float64)\n",
    "\n",
    "    for i in range(num_rounds):\n",
    "        # Randomly sample training data\n",
    "        X_boot, y_boot = _draw_bootstrap_sample(rng, X_train, y_train)\n",
    "\n",
    "        # Fit the model using the randomly sampled data\n",
    "        pred = estimator.fit(X_boot, y_boot).predict(X_test)\n",
    "        all_pred[i] = pred\n",
    "\n",
    "    # Mean prediction across runs using different dataset for each data point\n",
    "    main_predictions = np.mean(all_pred, axis=0)\n",
    "\n",
    "    # Average bias across different rounds\n",
    "    avg_bias = np.sum((main_predictions - y_test) ** 2) / y_test.size\n",
    "\n",
    "    # Average variance across different rounds\n",
    "    avg_var = np.sum((main_predictions - all_pred) ** 2) / all_pred.size\n",
    "\n",
    "    return avg_bias, avg_var"
   ]
  },
  {
   "cell_type": "code",
   "execution_count": 1779,
   "id": "IvfmmzCuMgyd",
   "metadata": {
    "id": "IvfmmzCuMgyd"
   },
   "outputs": [],
   "source": [
    "# Usage example\n",
    "model = OrdinalLogisticRegression()\n",
    "avg_bias, avg_var = \\\n",
    "    bias_variance_decomp(model, X_train, y_train, X_test, y_test, num_rounds=10, random_seed=0)"
   ]
  },
  {
   "cell_type": "code",
   "execution_count": 1780,
   "id": "HGhlEcj7MpVP",
   "metadata": {
    "id": "HGhlEcj7MpVP"
   },
   "outputs": [
    {
     "name": "stdout",
     "output_type": "stream",
     "text": [
      "94.47800319488817 2.7724227902023433\n"
     ]
    }
   ],
   "source": [
    "print(avg_bias, avg_var)"
   ]
  },
  {
   "cell_type": "code",
   "execution_count": null,
   "id": "7f5d1531",
   "metadata": {},
   "outputs": [
    {
     "data": {
      "image/png": "[encoded data removed]",
      "text/plain": [
       "<Figure size 1000x600 with 1 Axes>"
      ]
     },
     "metadata": {},
     "output_type": "display_data"
    }
   ],
   "source": [
    "#TODO: Discuss bias-variance trade-off of your ordinal logistic regression model\n",
    "# Define the range of C values\n",
    "C_values = [0.00001, 0.0001, 0.001, 0.01, 0.1, 0.5, 1, 10, 50, 100]\n",
    "\n",
    "# Initialize lists to store bias and variance\n",
    "bias_list = []\n",
    "variance_list = []\n",
    "\n",
    "# Loop over C values\n",
    "for C in C_values:\n",
    "    # Initialize the estimator\n",
    "    estimator = LogisticRegression(C=C, max_iter=1000)\n",
    "    \n",
    "    # Compute bias and variance\n",
    "    avg_bias, avg_var = bias_variance_decomp(\n",
    "        estimator,\n",
    "        X_train,\n",
    "        y_train,\n",
    "        X_test,\n",
    "        y_test,\n",
    "        num_rounds=10,\n",
    "        random_seed=42\n",
    "    )\n",
    "    \n",
    "    # Store the results\n",
    "    bias_list.append(avg_bias)\n",
    "    variance_list.append(avg_var)\n",
    "\n",
    "# Plot the bias-variance trade-off\n",
    "plt.figure(figsize=(10, 6))\n",
    "plt.semilogx(C_values, bias_list, label='Bias^2', marker='o')\n",
    "plt.semilogx(C_values, variance_list, label='Variance', marker='o')\n",
    "plt.xlabel('Regularization Strength C (log scale)')\n",
    "plt.ylabel('Error')\n",
    "plt.title('Bias-Variance Trade-off')\n",
    "plt.legend()\n",
    "plt.grid(True)\n",
    "plt.show()"
   ]
  },
  {
   "cell_type": "markdown",
   "id": "yM6x1l0ylEai",
   "metadata": {
    "id": "yM6x1l0ylEai"
   },
   "source": [
    "# Question 4: Model Tuning"
   ]
  },
  {
   "cell_type": "markdown",
   "id": "Yd1b-XDKlgYe",
   "metadata": {
    "id": "Yd1b-XDKlgYe"
   },
   "source": [
    "- What are the hyperparameters we can potentially set for our ordinal logistic regression model?<p>\n",
    "C and max iter\n",
    "- Which hyperparameters seem to be worthwhile to tune? <p>\n",
    "The regularization strength C is a key hyperparameter in the Ordinal Logistic Regression model that directly influences the bias-variance trade-off. Small C values apply strong regularization, which results a higher bias and a lower variance. On the other hands the larger C reduce bias but increase variance. In the Appendix 4, we observe that at very small C values, the bias is high, and the variance is small. As C increases, the bias drops, indicating an improved fit. However, beyond 10^-2, the bias rises sharply, likely due to over-regularization. Therefore, the optimal C value for balancing bias and variance appears to be between 10^-3and 10^-2, where the model achieves the best trade-off between accuracy and generalization."
   ]
  },
  {
   "cell_type": "code",
   "execution_count": null,
   "id": "6601f865",
   "metadata": {},
   "outputs": [
    {
     "name": "stdout",
     "output_type": "stream",
     "text": [
      "          0         1         2         3         4         5         6  \\\n",
      "0  0.342087  0.099794  0.074446  0.054122  0.053437  0.042019  0.044302   \n",
      "\n",
      "          7         8        9        10        11        12        13  \\\n",
      "0  0.036995  0.026947  0.02786  0.054579  0.041562  0.047043  0.035853   \n",
      "\n",
      "         14  \n",
      "0  0.018954  \n"
     ]
    }
   ],
   "source": [
    "# Calculate the counts of each class in y_train\n",
    "unique_classes, counts = np.unique(y_train, return_counts=True)\n",
    "\n",
    "# Calculate the proportion of each class\n",
    "class_proportions = counts / len(y_train)\n",
    "\n",
    "# Create an array of all classes from 0 to 14\n",
    "all_classes = np.arange(15)  \n",
    "\n",
    "# Initialize an array to hold the proportions, filled with zeros\n",
    "proportions = np.zeros(len(all_classes))\n",
    "\n",
    "# Fill in the proportions for the classes that are present in y_train\n",
    "for idx, cls in enumerate(unique_classes):\n",
    "    # Ensure that the class label is an integer index\n",
    "    class_index = int(cls)\n",
    "    proportions[class_index] = class_proportions[idx]\n",
    "\n",
    "# Create a DataFrame with columns named from '0' to '14'\n",
    "class_proportion_df = pd.DataFrame([proportions], columns=[str(i) for i in range(15)])\n",
    "\n",
    "# Display the DataFrame\n",
    "print(class_proportion_df)"
   ]
  },
  {
   "cell_type": "markdown",
   "id": "hCqdrfV9nWEP",
   "metadata": {
    "id": "hCqdrfV9nWEP"
   },
   "source": [
    "## Grid Search\n",
    "\n",
    "- Grid search will take time to complete - but if it does not finish in a few hours, you're probably trying too many combinations\n",
    "- A recommended approach is to try a small number of combinations with a wide range first (for continuous value hyperparameters)! Then gradually increase the points that seem to be near optimal"
   ]
  },
  {
   "cell_type": "code",
   "execution_count": 1789,
   "id": "W2csig4uY7XO",
   "metadata": {
    "id": "W2csig4uY7XO"
   },
   "outputs": [
    {
     "name": "stdout",
     "output_type": "stream",
     "text": [
      "Best parameters found:  {'C': 0.0001, 'max_iter': 200}\n",
      "Best cross-validation score:  0.2838479975990931\n"
     ]
    }
   ],
   "source": [
    "from sklearn.model_selection import GridSearchCV\n",
    "from sklearn.metrics import make_scorer, f1_score\n",
    "# Define the hyperparameter grid\n",
    "param_grid = {\n",
    "    'C': [1e-4, 1e-3, 1e-2, 1e-1, 1, 10, 100, 1000],\n",
    "    'max_iter': [100, 200, 300, 400, 500, 600, 700]\n",
    "}\n",
    "\n",
    "# Initialize the model\n",
    "model = OrdinalLogisticRegression()\n",
    "\n",
    "# Create a custom scorer\n",
    "f1_scorer = make_scorer(f1_score, average='weighted')\n",
    "\n",
    "# Initialize GridSearchCV\n",
    "grid_search = GridSearchCV(\n",
    "    estimator=model,\n",
    "    param_grid=param_grid,\n",
    "    scoring= f1_scorer,\n",
    "    cv=5,  \n",
    "    n_jobs=-1  \n",
    ")\n",
    "\n",
    "# Fit the model\n",
    "grid_search.fit(X_train, y_train)\n",
    "\n",
    "# Get the best hyperparameters\n",
    "best_params = grid_search.best_params_\n",
    "best_score = grid_search.best_score_\n",
    "\n",
    "print(\"Best parameters found: \", best_params)\n",
    "print(\"Best cross-validation score: \", best_score)"
   ]
  },
  {
   "cell_type": "markdown",
   "id": "4E7snhc_oCna",
   "metadata": {
    "id": "4E7snhc_oCna"
   },
   "source": [
    "## Visualize the feature importance of your model"
   ]
  },
  {
   "cell_type": "code",
   "execution_count": null,
   "id": "p0uxuBLVlqh2",
   "metadata": {
    "id": "p0uxuBLVlqh2"
   },
   "outputs": [],
   "source": [
    "model = OrdinalLogisticRegression(max_iter=200 , C= 0.0001) #TODO: set the best-performing hyperparameters identified via grid search\n",
    "model = model.fit(X_train, y_train)"
   ]
  },
  {
   "cell_type": "code",
   "execution_count": 1791,
   "id": "9vHrcM_7maIX",
   "metadata": {
    "id": "9vHrcM_7maIX"
   },
   "outputs": [
    {
     "data": {
      "image/png": "[encoded data removed]",
      "text/plain": [
       "<Figure size 1200x600 with 1 Axes>"
      ]
     },
     "metadata": {},
     "output_type": "display_data"
    }
   ],
   "source": [
    "#TODO: Visualize feature importance of the ordinal logistic regression model\n",
    "# Plot the feature importance graph.\n",
    "# Collect coefficients from each binary logistic regression model\n",
    "coef_list = []\n",
    "for model_binary in model.models_:\n",
    "    coef_list.append(model_binary.coef_.flatten())\n",
    "\n",
    "# Convert list of coefficients to a NumPy array\n",
    "coef_array = np.array(coef_list)  # Shape: (n_models, n_features)\n",
    "\n",
    "# Compute the average coefficients across all models\n",
    "avg_coefs = np.mean(coef_array, axis=0)  # Shape: (n_features,)\n",
    "\n",
    "# Create a DataFrame for visualization\n",
    "coef_df = pd.DataFrame({\n",
    "    'Feature': train_df_selected,\n",
    "    'Coefficient': avg_coefs\n",
    "})\n",
    "\n",
    "# Calculate absolute coefficients for sorting\n",
    "coef_df['AbsCoefficient'] = np.abs(coef_df['Coefficient'])\n",
    "\n",
    "# Sort the DataFrame by absolute coefficient values\n",
    "coef_df_sorted = coef_df.sort_values(by='AbsCoefficient', ascending=False)\n",
    "\n",
    "# Plot the feature importance\n",
    "plt.figure(figsize=(12, 6))\n",
    "plt.bar(coef_df_sorted['Feature'], coef_df_sorted['Coefficient'], color='skyblue')\n",
    "plt.xticks(rotation=90)\n",
    "plt.xlabel('Features')\n",
    "plt.ylabel('Average Coefficient')\n",
    "plt.title('Feature Importance in Ordinal Logistic Regression')\n",
    "plt.tight_layout()\n",
    "plt.show()"
   ]
  },
  {
   "cell_type": "markdown",
   "id": "goOzqrk3nJUw",
   "metadata": {
    "id": "goOzqrk3nJUw"
   },
   "source": [
    "# Question 5: Testing"
   ]
  },
  {
   "cell_type": "code",
   "execution_count": 1797,
   "id": "u-nCZ_QnnKhF",
   "metadata": {
    "id": "u-nCZ_QnnKhF"
   },
   "outputs": [
    {
     "name": "stdout",
     "output_type": "stream",
     "text": [
      "Training Set Performance:\n",
      "Mean Absolute Error (MAE): 2.4503\n",
      "F1 Score (weighted): 0.2911\n",
      "Accuracy: 0.3688\n",
      "\n",
      "Test Set Performance:\n",
      "Mean Absolute Error (MAE): 8.8259\n",
      "F1 Score (weighted): 0.0965\n",
      "Accuracy: 0.0788\n"
     ]
    }
   ],
   "source": [
    "# Get predictions for both training and test sets\n",
    "y_train_pred = model.predict(X_train)\n",
    "y_test_pred = model.predict(X_test)\n",
    "\n",
    "# Get probability predictions for test set\n",
    "y_test_pred_proba = model.predict_proba(X_test)\n",
    "\n",
    "# Calculate metrics for training set\n",
    "train_mae = mean_absolute_error(y_train, y_train_pred)\n",
    "train_f1 = f1_score(y_train, y_train_pred, average='weighted')\n",
    "train_acc = accuracy_score(y_train, y_train_pred)\n",
    "\n",
    "# Calculate metrics for test set  \n",
    "test_mae = mean_absolute_error(y_test, y_test_pred)\n",
    "test_f1 = f1_score(y_test, y_test_pred, average='weighted')\n",
    "test_acc = accuracy_score(y_test, y_test_pred)\n",
    "\n",
    "# Print results\n",
    "print(\"Training Set Performance:\")\n",
    "print(f\"Mean Absolute Error (MAE): {train_mae:.4f}\")\n",
    "print(f\"F1 Score (weighted): {train_f1:.4f}\")\n",
    "print(f\"Accuracy: {train_acc:.4f}\")\n",
    "\n",
    "print(\"\\nTest Set Performance:\")\n",
    "print(f\"Mean Absolute Error (MAE): {test_mae:.4f}\") \n",
    "print(f\"F1 Score (weighted): {test_f1:.4f}\")\n",
    "print(f\"Accuracy: {test_acc:.4f}\")"
   ]
  },
  {
   "cell_type": "code",
   "execution_count": 1796,
   "id": "0-BMMRi0oIy5",
   "metadata": {
    "id": "0-BMMRi0oIy5"
   },
   "outputs": [
    {
     "data": {
      "image/png": "[encoded data removed]",
      "text/plain": [
       "<Figure size 1400x600 with 2 Axes>"
      ]
     },
     "metadata": {},
     "output_type": "display_data"
    },
    {
     "data": {
      "image/png": "[encoded data removed]",
      "text/plain": [
       "<Figure size 1400x600 with 2 Axes>"
      ]
     },
     "metadata": {},
     "output_type": "display_data"
    }
   ],
   "source": [
    "# Plot distribution on the training set\n",
    "plt.figure(figsize=(14, 6))\n",
    "\n",
    "# True target variable distribution on training set\n",
    "plt.subplot(1, 2, 1)\n",
    "sns.countplot(x=y_train, palette='viridis')\n",
    "plt.title('True Target Distribution - Training Set')\n",
    "plt.xlabel('Income Categories')\n",
    "plt.ylabel('Count')\n",
    "plt.xticks(rotation=45)\n",
    "\n",
    "# Predicted target variable distribution on training set\n",
    "plt.subplot(1, 2, 2)\n",
    "sns.countplot(x=y_train_pred, palette='magma')\n",
    "plt.title('Predicted Target Distribution - Training Set')\n",
    "plt.xlabel('Income Categories')\n",
    "plt.ylabel('Count')\n",
    "plt.xticks(rotation=45)\n",
    "\n",
    "plt.tight_layout()\n",
    "plt.show()\n",
    "\n",
    "# Plot distribution on the test set\n",
    "plt.figure(figsize=(14, 6))\n",
    "\n",
    "# True target variable distribution on test set\n",
    "plt.subplot(1, 2, 1)\n",
    "sns.countplot(x=y_test, palette='viridis')\n",
    "plt.title('True Target Distribution - Test Set')\n",
    "plt.xlabel('Income Categories')\n",
    "plt.ylabel('Count')\n",
    "plt.xticks(rotation=45)\n",
    "\n",
    "# Predicted target variable distribution on test set\n",
    "plt.subplot(1, 2, 2)\n",
    "sns.countplot(x=y_test_pred, palette='magma')\n",
    "plt.title('Predicted Target Distribution - Test Set')\n",
    "plt.xlabel('Income Categories')\n",
    "plt.ylabel('Count')\n",
    "plt.xticks(rotation=45)\n",
    "\n",
    "plt.tight_layout()\n",
    "plt.show()\n"
   ]
  }
 ],
 "metadata": {
  "colab": {
   "provenance": []
  },
  "kernelspec": {
   "display_name": "Python 3",
   "language": "python",
   "name": "python3"
  },
  "language_info": {
   "codemirror_mode": {
    "name": "ipython",
    "version": 3
   },
   "file_extension": ".py",
   "mimetype": "text/x-python",
   "name": "python",
   "nbconvert_exporter": "python",
   "pygments_lexer": "ipython3",
   "version": "3.12.6"
  }
 },
 "nbformat": 4,
 "nbformat_minor": 5
}
